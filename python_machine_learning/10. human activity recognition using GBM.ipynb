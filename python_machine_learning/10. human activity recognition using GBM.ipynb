{
 "cells": [
  {
   "cell_type": "code",
   "execution_count": 3,
   "metadata": {},
   "outputs": [],
   "source": [
    "import pandas as pd\n",
    "import numpy as np\n",
    "import seaborn as sns\n",
    "import matplotlib.pyplot as plt\n",
    "from sklearn.ensemble import GradientBoostingClassifier\n",
    "from sklearn.metrics import accuracy_score\n",
    "import warnings\n",
    "warnings.filterwarnings(\"ignore\")\n",
    "\n",
    "path = \"./res/UCI HAR Dataset/features.txt\"\n",
    "\n",
    "features_df = pd.read_csv(path,sep=\"\\s+\",\n",
    "                         header=None, names=[\"column_index\", \"column_name\"])\n",
    "\n",
    "feature_names = features_df[\"column_name\"].values.tolist()\n",
    "\n",
    "path = \"./res/UCI HAR Dataset/\"\n",
    "\n",
    "X_train = pd.read_csv(path+\"train/X_train.txt\",sep=\"\\s+\", names=feature_names)\n",
    "X_test = pd.read_csv(path+\"test/X_test.txt\",sep=\"\\s+\", names=feature_names)\n",
    "\n",
    "\n",
    "y_train = pd.read_csv(path+\"train/y_train.txt\", sep=\"\\s+\", header=None,\n",
    "                     names=[\"action\"])\n",
    "\n",
    "y_test = pd.read_csv(path+\"test/y_test.txt\", sep=\"\\s+\", header=None,\n",
    "                     names=[\"action\"])"
   ]
  },
  {
   "cell_type": "code",
   "execution_count": 4,
   "metadata": {},
   "outputs": [
    {
     "name": "stdout",
     "output_type": "stream",
     "text": [
      "gbm acc : 0.9379029521547336\n"
     ]
    }
   ],
   "source": [
    "gbm = GradientBoostingClassifier(random_state=100)\n",
    "gbm.fit(X_train, y_train)\n",
    "y_pred = gbm.predict(X_test)\n",
    "print(\"gbm acc : {}\".format(accuracy_score(y_test, y_pred)))"
   ]
  },
  {
   "cell_type": "code",
   "execution_count": null,
   "metadata": {},
   "outputs": [],
   "source": []
  }
 ],
 "metadata": {
  "kernelspec": {
   "display_name": "Python 3",
   "language": "python",
   "name": "python3"
  },
  "language_info": {
   "codemirror_mode": {
    "name": "ipython",
    "version": 3
   },
   "file_extension": ".py",
   "mimetype": "text/x-python",
   "name": "python",
   "nbconvert_exporter": "python",
   "pygments_lexer": "ipython3",
   "version": "3.7.1"
  }
 },
 "nbformat": 4,
 "nbformat_minor": 2
}
