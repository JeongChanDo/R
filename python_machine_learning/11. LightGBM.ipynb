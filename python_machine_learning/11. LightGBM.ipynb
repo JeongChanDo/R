{
 "cells": [
  {
   "cell_type": "code",
   "execution_count": 12,
   "metadata": {},
   "outputs": [
    {
     "name": "stdout",
     "output_type": "stream",
     "text": [
      "Requirement already satisfied: lightgbm in d:\\program files\\anaconda3\\lib\\site-packages (3.1.0)\n",
      "Requirement already satisfied: numpy in d:\\program files\\anaconda3\\lib\\site-packages (from lightgbm) (1.15.4)\n",
      "Requirement already satisfied: scikit-learn!=0.22.0 in d:\\program files\\anaconda3\\lib\\site-packages (from lightgbm) (0.20.1)\n",
      "Requirement already satisfied: scipy in d:\\program files\\anaconda3\\lib\\site-packages (from lightgbm) (1.1.0)\n"
     ]
    }
   ],
   "source": [
    "!pip install lightgbm\n",
    "\n",
    "from lightgbm import LGBMClassifier\n",
    "import pandas as pd\n",
    "import numpy as np\n",
    "from sklearn.datasets import load_breast_cancer\n",
    "from sklearn.model_selection import cross_val_score"
   ]
  },
  {
   "cell_type": "code",
   "execution_count": 10,
   "metadata": {},
   "outputs": [
    {
     "name": "stdout",
     "output_type": "stream",
     "text": [
      "[0.93913043 0.96521739 0.98230088 0.97345133 0.98230088]\n",
      "0.9684801846864179\n"
     ]
    }
   ],
   "source": [
    "data = load_breast_cancer()\n",
    "X = data.data\n",
    "y = data.target\n",
    "\n",
    "lgbm = LGBMClassifier()\n",
    "res = cross_val_score(lgbm, X, y, cv= 5, n_jobs=-1, scoring=\"accuracy\")\n",
    "print(res)\n",
    "print(np.mean(res))"
   ]
  }
 ],
 "metadata": {
  "kernelspec": {
   "display_name": "Python 3",
   "language": "python",
   "name": "python3"
  },
  "language_info": {
   "codemirror_mode": {
    "name": "ipython",
    "version": 3
   },
   "file_extension": ".py",
   "mimetype": "text/x-python",
   "name": "python",
   "nbconvert_exporter": "python",
   "pygments_lexer": "ipython3",
   "version": "3.7.1"
  }
 },
 "nbformat": 4,
 "nbformat_minor": 2
}
