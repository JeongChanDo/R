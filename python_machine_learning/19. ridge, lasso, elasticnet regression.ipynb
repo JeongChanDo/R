{
 "cells": [
  {
   "cell_type": "code",
   "execution_count": 44,
   "metadata": {},
   "outputs": [
    {
     "name": "stdout",
     "output_type": "stream",
     "text": [
      "The autotime extension is already loaded. To reload it, use:\n",
      "  %reload_ext autotime\n",
      "time: 15 ms\n"
     ]
    }
   ],
   "source": [
    "from sklearn.linear_model import Ridge\n",
    "from sklearn.linear_model import Lasso, ElasticNet\n",
    "from sklearn.model_selection import cross_val_score\n",
    "from sklearn.preprocessing import PolynomialFeatures\n",
    "from sklearn.datasets import load_boston\n",
    "import pandas as pd\n",
    "import numpy as np\n",
    "import matplotlib.pyplot as plt\n",
    "import warnings\n",
    "import seaborn as sns\n",
    "\n",
    "warnings.filterwarnings(\"ignore\")\n",
    "%load_ext autotime"
   ]
  },
  {
   "cell_type": "code",
   "execution_count": 19,
   "metadata": {},
   "outputs": [
    {
     "name": "stdout",
     "output_type": "stream",
     "text": [
      ".. _boston_dataset:\n",
      "\n",
      "Boston house prices dataset\n",
      "---------------------------\n",
      "\n",
      "**Data Set Characteristics:**  \n",
      "\n",
      "    :Number of Instances: 506 \n",
      "\n",
      "    :Number of Attributes: 13 numeric/categorical predictive. Median Value (attribute 14) is usually the target.\n",
      "\n",
      "    :Attribute Information (in order):\n",
      "        - CRIM     per capita crime rate by town\n",
      "        - ZN       proportion of residential land zoned for lots over 25,000 sq.ft.\n",
      "        - INDUS    proportion of non-retail business acres per town\n",
      "        - CHAS     Charles River dummy variable (= 1 if tract bounds river; 0 otherwise)\n",
      "        - NOX      nitric oxides concentration (parts per 10 million)\n",
      "        - RM       average number of rooms per dwelling\n",
      "        - AGE      proportion of owner-occupied units built prior to 1940\n",
      "        - DIS      weighted distances to five Boston employment centres\n",
      "        - RAD      index of accessibility to radial highways\n",
      "        - TAX      full-value property-tax rate per $10,000\n",
      "        - PTRATIO  pupil-teacher ratio by town\n",
      "        - B        1000(Bk - 0.63)^2 where Bk is the proportion of blacks by town\n",
      "        - LSTAT    % lower status of the population\n",
      "        - MEDV     Median value of owner-occupied homes in $1000's\n",
      "\n",
      "    :Missing Attribute Values: None\n",
      "\n",
      "    :Creator: Harrison, D. and Rubinfeld, D.L.\n",
      "\n",
      "This is a copy of UCI ML housing dataset.\n",
      "https://archive.ics.uci.edu/ml/machine-learning-databases/housing/\n",
      "\n",
      "\n",
      "This dataset was taken from the StatLib library which is maintained at Carnegie Mellon University.\n",
      "\n",
      "The Boston house-price data of Harrison, D. and Rubinfeld, D.L. 'Hedonic\n",
      "prices and the demand for clean air', J. Environ. Economics & Management,\n",
      "vol.5, 81-102, 1978.   Used in Belsley, Kuh & Welsch, 'Regression diagnostics\n",
      "...', Wiley, 1980.   N.B. Various transformations are used in the table on\n",
      "pages 244-261 of the latter.\n",
      "\n",
      "The Boston house-price data has been used in many machine learning papers that address regression\n",
      "problems.   \n",
      "     \n",
      ".. topic:: References\n",
      "\n",
      "   - Belsley, Kuh & Welsch, 'Regression diagnostics: Identifying Influential Data and Sources of Collinearity', Wiley, 1980. 244-261.\n",
      "   - Quinlan,R. (1993). Combining Instance-Based and Model-Based Learning. In Proceedings on the Tenth International Conference of Machine Learning, 236-243, University of Massachusetts, Amherst. Morgan Kaufmann.\n",
      "\n",
      "time: 0 ns\n"
     ]
    }
   ],
   "source": [
    "boston = load_boston()\n",
    "print(boston.DESCR)"
   ]
  },
  {
   "cell_type": "code",
   "execution_count": 20,
   "metadata": {},
   "outputs": [
    {
     "data": {
      "text/html": [
       "<div>\n",
       "<style scoped>\n",
       "    .dataframe tbody tr th:only-of-type {\n",
       "        vertical-align: middle;\n",
       "    }\n",
       "\n",
       "    .dataframe tbody tr th {\n",
       "        vertical-align: top;\n",
       "    }\n",
       "\n",
       "    .dataframe thead th {\n",
       "        text-align: right;\n",
       "    }\n",
       "</style>\n",
       "<table border=\"1\" class=\"dataframe\">\n",
       "  <thead>\n",
       "    <tr style=\"text-align: right;\">\n",
       "      <th></th>\n",
       "      <th>CRIM</th>\n",
       "      <th>ZN</th>\n",
       "      <th>INDUS</th>\n",
       "      <th>CHAS</th>\n",
       "      <th>NOX</th>\n",
       "      <th>RM</th>\n",
       "      <th>AGE</th>\n",
       "      <th>DIS</th>\n",
       "      <th>RAD</th>\n",
       "      <th>TAX</th>\n",
       "      <th>PTRATIO</th>\n",
       "      <th>B</th>\n",
       "      <th>LSTAT</th>\n",
       "      <th>PRICE</th>\n",
       "    </tr>\n",
       "  </thead>\n",
       "  <tbody>\n",
       "    <tr>\n",
       "      <th>0</th>\n",
       "      <td>0.00632</td>\n",
       "      <td>18.0</td>\n",
       "      <td>2.31</td>\n",
       "      <td>0.0</td>\n",
       "      <td>0.538</td>\n",
       "      <td>6.575</td>\n",
       "      <td>65.2</td>\n",
       "      <td>4.0900</td>\n",
       "      <td>1.0</td>\n",
       "      <td>296.0</td>\n",
       "      <td>15.3</td>\n",
       "      <td>396.90</td>\n",
       "      <td>4.98</td>\n",
       "      <td>24.0</td>\n",
       "    </tr>\n",
       "    <tr>\n",
       "      <th>1</th>\n",
       "      <td>0.02731</td>\n",
       "      <td>0.0</td>\n",
       "      <td>7.07</td>\n",
       "      <td>0.0</td>\n",
       "      <td>0.469</td>\n",
       "      <td>6.421</td>\n",
       "      <td>78.9</td>\n",
       "      <td>4.9671</td>\n",
       "      <td>2.0</td>\n",
       "      <td>242.0</td>\n",
       "      <td>17.8</td>\n",
       "      <td>396.90</td>\n",
       "      <td>9.14</td>\n",
       "      <td>21.6</td>\n",
       "    </tr>\n",
       "    <tr>\n",
       "      <th>2</th>\n",
       "      <td>0.02729</td>\n",
       "      <td>0.0</td>\n",
       "      <td>7.07</td>\n",
       "      <td>0.0</td>\n",
       "      <td>0.469</td>\n",
       "      <td>7.185</td>\n",
       "      <td>61.1</td>\n",
       "      <td>4.9671</td>\n",
       "      <td>2.0</td>\n",
       "      <td>242.0</td>\n",
       "      <td>17.8</td>\n",
       "      <td>392.83</td>\n",
       "      <td>4.03</td>\n",
       "      <td>34.7</td>\n",
       "    </tr>\n",
       "    <tr>\n",
       "      <th>3</th>\n",
       "      <td>0.03237</td>\n",
       "      <td>0.0</td>\n",
       "      <td>2.18</td>\n",
       "      <td>0.0</td>\n",
       "      <td>0.458</td>\n",
       "      <td>6.998</td>\n",
       "      <td>45.8</td>\n",
       "      <td>6.0622</td>\n",
       "      <td>3.0</td>\n",
       "      <td>222.0</td>\n",
       "      <td>18.7</td>\n",
       "      <td>394.63</td>\n",
       "      <td>2.94</td>\n",
       "      <td>33.4</td>\n",
       "    </tr>\n",
       "    <tr>\n",
       "      <th>4</th>\n",
       "      <td>0.06905</td>\n",
       "      <td>0.0</td>\n",
       "      <td>2.18</td>\n",
       "      <td>0.0</td>\n",
       "      <td>0.458</td>\n",
       "      <td>7.147</td>\n",
       "      <td>54.2</td>\n",
       "      <td>6.0622</td>\n",
       "      <td>3.0</td>\n",
       "      <td>222.0</td>\n",
       "      <td>18.7</td>\n",
       "      <td>396.90</td>\n",
       "      <td>5.33</td>\n",
       "      <td>36.2</td>\n",
       "    </tr>\n",
       "  </tbody>\n",
       "</table>\n",
       "</div>"
      ],
      "text/plain": [
       "      CRIM    ZN  INDUS  CHAS    NOX     RM   AGE     DIS  RAD    TAX  \\\n",
       "0  0.00632  18.0   2.31   0.0  0.538  6.575  65.2  4.0900  1.0  296.0   \n",
       "1  0.02731   0.0   7.07   0.0  0.469  6.421  78.9  4.9671  2.0  242.0   \n",
       "2  0.02729   0.0   7.07   0.0  0.469  7.185  61.1  4.9671  2.0  242.0   \n",
       "3  0.03237   0.0   2.18   0.0  0.458  6.998  45.8  6.0622  3.0  222.0   \n",
       "4  0.06905   0.0   2.18   0.0  0.458  7.147  54.2  6.0622  3.0  222.0   \n",
       "\n",
       "   PTRATIO       B  LSTAT  PRICE  \n",
       "0     15.3  396.90   4.98   24.0  \n",
       "1     17.8  396.90   9.14   21.6  \n",
       "2     17.8  392.83   4.03   34.7  \n",
       "3     18.7  394.63   2.94   33.4  \n",
       "4     18.7  396.90   5.33   36.2  "
      ]
     },
     "execution_count": 20,
     "metadata": {},
     "output_type": "execute_result"
    },
    {
     "name": "stdout",
     "output_type": "stream",
     "text": [
      "time: 657 ms\n"
     ]
    }
   ],
   "source": [
    "df = pd.DataFrame(data=boston.data, columns=boston.feature_names)\n",
    "df[\"PRICE\"] = boston.target\n",
    "df.head()"
   ]
  },
  {
   "cell_type": "code",
   "execution_count": 22,
   "metadata": {},
   "outputs": [
    {
     "name": "stdout",
     "output_type": "stream",
     "text": [
      "time: 344 ms\n"
     ]
    }
   ],
   "source": [
    "X = df.iloc[:,:-1]\n",
    "y = df.iloc[:, -1]"
   ]
  },
  {
   "cell_type": "code",
   "execution_count": 23,
   "metadata": {},
   "outputs": [
    {
     "name": "stdout",
     "output_type": "stream",
     "text": [
      "neg_mse_socres : [-6.36823308e+02 -3.54071383e+04 -5.86376981e+03 -6.33569086e+03\n",
      " -9.44576651e+05]\n",
      "rmse_scores : [ 25.23535828 188.1678461   76.57525587  79.59705309 971.89333332]\n",
      "avg_rmse : 268.2937693325437\n",
      "time: 1.06 s\n"
     ]
    }
   ],
   "source": [
    "ridge = Ridge(alpha = 10)\n",
    "neg_mse_scores = cross_val_score(pipeline, X, y, scoring=\"neg_mean_squared_error\",cv = 5)\n",
    "rmse_scores = np.sqrt(-1 * neg_mse_scores)\n",
    "avg_rmse = np.mean(rmse_scores)\n",
    "\n",
    "print(\"neg_mse_socres : {}\".format(neg_mse_scores))\n",
    "print(\"rmse_scores : {}\".format(rmse_scores))\n",
    "print(\"avg_rmse : {}\".format(avg_rmse))"
   ]
  },
  {
   "cell_type": "code",
   "execution_count": 25,
   "metadata": {},
   "outputs": [
    {
     "name": "stdout",
     "output_type": "stream",
     "text": [
      "### alpha = 0 ###\n",
      "neg_mse_socres : [-12.46030057 -26.04862111 -33.07413798 -80.76237112 -33.31360656]\n",
      "rmse_scores : [3.52991509 5.10378498 5.75101191 8.9867887  5.77179405]\n",
      "avg_rmse : 5.828658946215803\n",
      "\n",
      "### alpha = 0.1 ###\n",
      "neg_mse_socres : [-12.31966805 -25.19800734 -32.43466024 -80.70282254 -32.88006851]\n",
      "rmse_scores : [3.50993847 5.01976168 5.69514357 8.98347497 5.73411445]\n",
      "avg_rmse : 5.788486627032408\n",
      "\n",
      "### alpha = 1 ###\n",
      "neg_mse_socres : [-11.7110334  -23.58316804 -29.69339407 -80.22988232 -31.11617767]\n",
      "rmse_scores : [3.42213872 4.85625041 5.44916453 8.9571135  5.57818767]\n",
      "avg_rmse : 5.652570965613544\n",
      "\n",
      "### alpha = 10 ###\n",
      "neg_mse_socres : [-11.4217962  -24.29446706 -28.14355069 -74.59916618 -28.51714218]\n",
      "rmse_scores : [3.3796148  4.92894178 5.30504955 8.63708088 5.3401444 ]\n",
      "avg_rmse : 5.518166280868972\n",
      "\n",
      "### alpha = 100 ###\n",
      "neg_mse_socres : [-12.8247449  -27.27923137 -34.67968877 -52.69431476 -22.05052994]\n",
      "rmse_scores : [3.5811653  5.22295236 5.88894632 7.25908498 4.69579918]\n",
      "avg_rmse : 5.329589628472148\n",
      "\n",
      "time: 140 ms\n"
     ]
    }
   ],
   "source": [
    "alphas = [0, 0.1, 1, 10, 100]\n",
    "for alpha in alphas:\n",
    "    ridge = Ridge(alpha = alpha)\n",
    "    neg_mse_scores = cross_val_score(ridge, X, y, scoring=\"neg_mean_squared_error\",cv = 5)\n",
    "    rmse_scores = np.sqrt(-1 * neg_mse_scores)\n",
    "    avg_rmse = np.mean(rmse_scores)\n",
    "    print(\"### alpha = {} ###\".format(alpha))\n",
    "    print(\"neg_mse_socres : {}\".format(neg_mse_scores))\n",
    "    print(\"rmse_scores : {}\".format(rmse_scores))\n",
    "    print(\"avg_rmse : {}\\n\".format(avg_rmse))"
   ]
  },
  {
   "cell_type": "code",
   "execution_count": 28,
   "metadata": {},
   "outputs": [
    {
     "data": {
      "image/png": "[encoded data removed]",
      "text/plain": [
       "<Figure size 1296x432 with 5 Axes>"
      ]
     },
     "metadata": {
      "needs_background": "light"
     },
     "output_type": "display_data"
    },
    {
     "name": "stdout",
     "output_type": "stream",
     "text": [
      "time: 1.16 s\n"
     ]
    }
   ],
   "source": [
    "fig, axs = plt.subplots(figsize=(18, 6), nrows=1, ncols=5)\n",
    "\n",
    "coeff_df = pd.DataFrame()\n",
    "\n",
    "for pos, alpha in enumerate(alphas):\n",
    "    ridge = Ridge(alpha=alpha)\n",
    "    ridge.fit(X, y)\n",
    "    coeff = pd.Series(ridge.coef_, index=X.columns)\n",
    "    colname=\"alpha=\"+str(alpha)\n",
    "    coeff_df[colname] = coeff\n",
    "    \n",
    "    coeff = coeff.sort_values(ascending=False)\n",
    "    axs[pos].set_title(colname)\n",
    "    axs[pos].set_xlim(-3, 6)\n",
    "    sns.barplot(x=coeff.values, y=coeff.index, ax=axs[pos])\n",
    "plt.show()"
   ]
  },
  {
   "cell_type": "code",
   "execution_count": 40,
   "metadata": {},
   "outputs": [
    {
     "name": "stdout",
     "output_type": "stream",
     "text": [
      "time: 16 ms\n"
     ]
    }
   ],
   "source": [
    "alphas = [0.07, 0.1, 0.5, 1, 3]\n",
    "def get_linear_reg_eval(model_name, params=None, X_data = None, y_target=None):\n",
    "    fig, axs = plt.subplots(figsize=(18, 6), nrows=1, ncols=5)\n",
    "\n",
    "    print(\"#### {} ####\".format(model_name))\n",
    "    for pos, param in enumerate(params):\n",
    "        if model_name == \"Ridge\": model = Ridge(alpha=param)\n",
    "        elif model_name == \"Lasso\": model= Lasso(alpha=param)\n",
    "        elif model_name == \"ElasticNet\": model = ElasticNet(alpha=param, l1_ratio=0.7)\n",
    "        \n",
    "        neg_mse_scores = cross_val_score(model, X, y, scoring=\"neg_mean_squared_error\",cv = 5)\n",
    "        rmse_scores = np.sqrt(-1 * neg_mse_scores)\n",
    "        avg_rmse = np.mean(rmse_scores)\n",
    "        print(\"### alpha = {} ###\".format(param))\n",
    "        print(\"neg_mse_socres : {}\".format(neg_mse_scores))\n",
    "        print(\"rmse_scores : {}\".format(rmse_scores))\n",
    "        print(\"avg_rmse : {}\\n\".format(avg_rmse))\n",
    "        \n",
    "        model.fit(X_data, y_target)\n",
    "        coeff = pd.Series(model.coef_, index=X_data.columns)\n",
    "        colname=\"alpha=\"+str(param)\n",
    "        coeff_df[colname] = coeff\n",
    "\n",
    "        coeff = coeff.sort_values(ascending=False)\n",
    "        axs[pos].set_title(colname)\n",
    "        axs[pos].set_xlim(-3, 6)\n",
    "        sns.barplot(x=coeff.values, y=coeff.index, ax=axs[pos])\n",
    "    plt.show()"
   ]
  },
  {
   "cell_type": "code",
   "execution_count": 41,
   "metadata": {},
   "outputs": [
    {
     "name": "stdout",
     "output_type": "stream",
     "text": [
      "#### Lasso ####\n",
      "### alpha = 0.07 ###\n",
      "neg_mse_socres : [-11.16910221 -24.38034919 -28.53702903 -80.49005513 -29.90037414]\n",
      "rmse_scores : [3.34202068 4.93764612 5.34200609 8.971625   5.46812346]\n",
      "avg_rmse : 5.612284267526675\n",
      "\n",
      "### alpha = 0.1 ###\n",
      "neg_mse_socres : [-11.22162227 -24.34502474 -29.42629614 -79.36695204 -29.79226639]\n",
      "rmse_scores : [3.34986899 4.93406777 5.42460101 8.90881317 5.45822924]\n",
      "avg_rmse : 5.615116035266936\n",
      "\n",
      "### alpha = 0.5 ###\n",
      "neg_mse_socres : [-12.46638011 -27.59244617 -42.25030628 -67.1976593  -23.66382986]\n",
      "rmse_scores : [3.53077613 5.25285124 6.50002356 8.19741784 4.86454827]\n",
      "avg_rmse : 5.6691234095948975\n",
      "\n",
      "### alpha = 1 ###\n",
      "neg_mse_socres : [-15.14131994 -33.33259513 -53.29272438 -56.60390882 -19.28735282]\n",
      "rmse_scores : [3.8911849  5.77343876 7.3001866  7.52355693 4.39173688]\n",
      "avg_rmse : 5.776020813823376\n",
      "\n",
      "### alpha = 3 ###\n",
      "neg_mse_socres : [-22.75126745 -36.89161355 -71.60006937 -52.54383435 -19.26986538]\n",
      "rmse_scores : [4.76982887 6.07384668 8.46168242 7.2487126  4.38974548]\n",
      "avg_rmse : 6.1887632108009045\n",
      "\n"
     ]
    },
    {
     "data": {
      "image/png": "[encoded data removed]",
      "text/plain": [
       "<Figure size 1296x432 with 5 Axes>"
      ]
     },
     "metadata": {
      "needs_background": "light"
     },
     "output_type": "display_data"
    },
    {
     "name": "stdout",
     "output_type": "stream",
     "text": [
      "time: 1.03 s\n"
     ]
    }
   ],
   "source": [
    "get_linear_reg_eval(\"Lasso\", params=alphas, X_data=X, y_target=y)"
   ]
  },
  {
   "cell_type": "code",
   "execution_count": 45,
   "metadata": {},
   "outputs": [
    {
     "name": "stdout",
     "output_type": "stream",
     "text": [
      "#### ElasticNet ####\n",
      "### alpha = 0.07 ###\n",
      "neg_mse_socres : [-11.396868   -24.60809082 -29.00034402 -74.97826816 -28.38222104]\n",
      "rmse_scores : [3.37592476 4.96065427 5.38519675 8.65899926 5.3274967 ]\n",
      "avg_rmse : 5.541654347348141\n",
      "\n",
      "### alpha = 0.1 ###\n",
      "neg_mse_socres : [-11.50417462 -24.77318085 -29.99825589 -72.64550936 -27.67071155]\n",
      "rmse_scores : [3.39178045 4.9772664  5.47706636 8.5232335  5.26029577]\n",
      "avg_rmse : 5.525928496294909\n",
      "\n",
      "### alpha = 0.5 ###\n",
      "neg_mse_socres : [-13.14287005 -28.19078922 -40.67323252 -54.66410214 -21.41708059]\n",
      "rmse_scores : [3.62530965 5.3094999  6.37755694 7.39351758 4.62785918]\n",
      "avg_rmse : 5.466748649445586\n",
      "\n",
      "### alpha = 1 ###\n",
      "neg_mse_socres : [-14.91482795 -31.21250584 -50.88245623 -49.16530416 -19.27731014]\n",
      "rmse_scores : [3.86197203 5.58681536 7.13319397 7.0117975  4.39059337]\n",
      "avg_rmse : 5.596874445109748\n",
      "\n",
      "### alpha = 3 ###\n",
      "neg_mse_socres : [-21.21191424 -35.60282378 -68.37448106 -50.85409968 -19.08000269]\n",
      "rmse_scores : [4.6056394  5.96681018 8.26888633 7.13120605 4.36806624]\n",
      "avg_rmse : 6.068121638621163\n",
      "\n"
     ]
    },
    {
     "data": {
      "image/png": "[encoded data removed]",
      "text/plain": [
       "<Figure size 1296x432 with 5 Axes>"
      ]
     },
     "metadata": {
      "needs_background": "light"
     },
     "output_type": "display_data"
    },
    {
     "name": "stdout",
     "output_type": "stream",
     "text": [
      "time: 1.06 s\n"
     ]
    }
   ],
   "source": [
    "get_linear_reg_eval(\"ElasticNet\", params=alphas, X_data=X, y_target=y)"
   ]
  },
  {
   "cell_type": "code",
   "execution_count": null,
   "metadata": {},
   "outputs": [],
   "source": []
  }
 ],
 "metadata": {
  "kernelspec": {
   "display_name": "Python 3",
   "language": "python",
   "name": "python3"
  },
  "language_info": {
   "codemirror_mode": {
    "name": "ipython",
    "version": 3
   },
   "file_extension": ".py",
   "mimetype": "text/x-python",
   "name": "python",
   "nbconvert_exporter": "python",
   "pygments_lexer": "ipython3",
   "version": "3.7.1"
  }
 },
 "nbformat": 4,
 "nbformat_minor": 2
}
