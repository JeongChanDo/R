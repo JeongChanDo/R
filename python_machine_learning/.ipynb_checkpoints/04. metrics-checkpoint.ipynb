{
 "cells": [
  {
   "cell_type": "code",
   "execution_count": 1,
   "metadata": {},
   "outputs": [],
   "source": [
    "import numpy as np\n",
    "import pandas as pd\n",
    "import seaborn as sns\n",
    "import matplotlib.pyplot as plt"
   ]
  },
  {
   "cell_type": "code",
   "execution_count": 19,
   "metadata": {
    "scrolled": true
   },
   "outputs": [
    {
     "name": "stdout",
     "output_type": "stream",
     "text": [
      "[[92 13]\n",
      " [22 52]]\n",
      "Acc : 0.8044692737430168\n",
      "precision : 0.8\n",
      "recall : 0.7027027027027027\n"
     ]
    },
    {
     "name": "stderr",
     "output_type": "stream",
     "text": [
      "C:\\Users\\ADMIN\\anaconda3\\lib\\site-packages\\sklearn\\utils\\validation.py:73: DataConversionWarning: A column-vector y was passed when a 1d array was expected. Please change the shape of y to (n_samples, ), for example using ravel().\n",
      "  return f(**kwargs)\n",
      "C:\\Users\\ADMIN\\anaconda3\\lib\\site-packages\\sklearn\\linear_model\\_logistic.py:762: ConvergenceWarning: lbfgs failed to converge (status=1):\n",
      "STOP: TOTAL NO. of ITERATIONS REACHED LIMIT.\n",
      "\n",
      "Increase the number of iterations (max_iter) or scale the data as shown in:\n",
      "    https://scikit-learn.org/stable/modules/preprocessing.html\n",
      "Please also refer to the documentation for alternative solver options:\n",
      "    https://scikit-learn.org/stable/modules/linear_model.html#logistic-regression\n",
      "  n_iter_i = _check_optimize_result(\n"
     ]
    }
   ],
   "source": [
    "from sklearn.metrics import precision_recall_curve\n",
    "from sklearn.metrics import accuracy_score, precision_score, recall_score, confusion_matrix\n",
    "from sklearn.linear_model import LogisticRegression\n",
    "from sklearn.model_selection import train_test_split\n",
    "from sklearn.preprocessing import LabelEncoder\n",
    "\n",
    "def get_categroy(age):\n",
    "    cat = \"\"\n",
    "    if age <= -1: cat = \"Unknown\"\n",
    "    elif age <= 5: cat = \"Baby\"\n",
    "    elif age <= 12: cat = \"Child\"\n",
    "    elif age <= 18: cat = \"Teenager\"\n",
    "    elif age <= 25: cat = \"Student\"\n",
    "    elif age <= 35: cat = \"Young Adult\"\n",
    "    elif age <= 60: cat = \"Adult\"\n",
    "    else : cat = \"Elderly\"\n",
    "    return cat\n",
    "\n",
    "def feature_tf(df):\n",
    "    enc_feature = [\"Sex\", \"AgeGroup\"]\n",
    "    drop_feature = [\"Name\", \"Embarked\", \"Ticket\", \"Cabin\", \"Age\"]\n",
    "    df[\"AgeGroup\"] = df[\"Age\"].apply(lambda x : get_categroy(x))\n",
    "    df.drop(columns = drop_feature, inplace=True)\n",
    "    for feature in enc_feature:\n",
    "        enc = LabelEncoder()\n",
    "        df[feature] = enc.fit_transform(df[feature])\n",
    "    return df\n",
    "\n",
    "def show_metrics(y_test, y_pred):\n",
    "    confusion = confusion_matrix(y_test, y_pred)\n",
    "    accuracy = accuracy_score(y_test, y_pred) \n",
    "    precision = precision_score(y_test, y_pred)\n",
    "    recall = recall_score(y_test, y_pred)\n",
    "    print(confusion)\n",
    "    print(\"Acc : {}\".format(accuracy))\n",
    "    print(\"precision : {}\".format(precision))\n",
    "    print(\"recall : {}\".format(recall))\n",
    "\n",
    "df = pd.read_csv(\"res/titanic/train.csv\")\n",
    "X = df.iloc[:, df.columns != \"Survived\"]\n",
    "y = df.iloc[:, df.columns == \"Survived\"]\n",
    "feature_tf(X)\n",
    "\n",
    "X_train, X_test, y_train, y_test = train_test_split(X, y, test_size=0.2)\n",
    "\n",
    "\n",
    "lr = LogisticRegression()\n",
    "lr.fit(X_train, y_train)\n",
    "y_pred = lr.predict(X_test)\n",
    "show_metrics(y_test, y_pred)"
   ]
  },
  {
   "cell_type": "markdown",
   "metadata": {},
   "source": [
    "### get probability of predictions using Estimator.predict_proba(X)\n",
    "- concatenate the result of prediction"
   ]
  },
  {
   "cell_type": "code",
   "execution_count": 41,
   "metadata": {},
   "outputs": [
    {
     "data": {
      "text/plain": [
       "array([[0.27873982, 0.72126018, 1.        ],\n",
       "       [0.9066548 , 0.0933452 , 0.        ],\n",
       "       [0.50401226, 0.49598774, 0.        ],\n",
       "       [0.02970212, 0.97029788, 1.        ],\n",
       "       [0.89957613, 0.10042387, 0.        ],\n",
       "       [0.89376527, 0.10623473, 0.        ],\n",
       "       [0.82769747, 0.17230253, 0.        ],\n",
       "       [0.28672046, 0.71327954, 1.        ],\n",
       "       [0.32930771, 0.67069229, 1.        ],\n",
       "       [0.95199723, 0.04800277, 0.        ],\n",
       "       [0.41349029, 0.58650971, 1.        ],\n",
       "       [0.14176893, 0.85823107, 1.        ],\n",
       "       [0.7617059 , 0.2382941 , 0.        ],\n",
       "       [0.44211217, 0.55788783, 1.        ],\n",
       "       [0.63855377, 0.36144623, 0.        ],\n",
       "       [0.81739132, 0.18260868, 0.        ],\n",
       "       [0.83141969, 0.16858031, 0.        ],\n",
       "       [0.72203234, 0.27796766, 0.        ],\n",
       "       [0.07441541, 0.92558459, 1.        ],\n",
       "       [0.81924418, 0.18075582, 0.        ],\n",
       "       [0.89437282, 0.10562718, 0.        ],\n",
       "       [0.50081163, 0.49918837, 0.        ],\n",
       "       [0.82866144, 0.17133856, 0.        ],\n",
       "       [0.83584771, 0.16415229, 0.        ],\n",
       "       [0.93440976, 0.06559024, 0.        ],\n",
       "       [0.86338841, 0.13661159, 0.        ],\n",
       "       [0.77491449, 0.22508551, 0.        ],\n",
       "       [0.90264887, 0.09735113, 0.        ],\n",
       "       [0.75275998, 0.24724002, 0.        ],\n",
       "       [0.07863974, 0.92136026, 1.        ],\n",
       "       [0.81436378, 0.18563622, 0.        ],\n",
       "       [0.85334608, 0.14665392, 0.        ],\n",
       "       [0.90465931, 0.09534069, 0.        ],\n",
       "       [0.63402246, 0.36597754, 0.        ],\n",
       "       [0.88486598, 0.11513402, 0.        ],\n",
       "       [0.82617597, 0.17382403, 0.        ],\n",
       "       [0.85229232, 0.14770768, 0.        ],\n",
       "       [0.32862335, 0.67137665, 1.        ],\n",
       "       [0.56312781, 0.43687219, 0.        ],\n",
       "       [0.17474452, 0.82525548, 1.        ],\n",
       "       [0.72006155, 0.27993845, 0.        ],\n",
       "       [0.31737852, 0.68262148, 1.        ],\n",
       "       [0.29042856, 0.70957144, 1.        ],\n",
       "       [0.87513446, 0.12486554, 0.        ],\n",
       "       [0.87299227, 0.12700773, 0.        ],\n",
       "       [0.83207883, 0.16792117, 0.        ],\n",
       "       [0.86777617, 0.13222383, 0.        ],\n",
       "       [0.86278037, 0.13721963, 0.        ],\n",
       "       [0.71702595, 0.28297405, 0.        ],\n",
       "       [0.81880447, 0.18119553, 0.        ],\n",
       "       [0.89235   , 0.10765   , 0.        ],\n",
       "       [0.8219931 , 0.1780069 , 0.        ],\n",
       "       [0.89280603, 0.10719397, 0.        ],\n",
       "       [0.86102056, 0.13897944, 0.        ],\n",
       "       [0.85134598, 0.14865402, 0.        ],\n",
       "       [0.3016009 , 0.6983991 , 1.        ],\n",
       "       [0.82674053, 0.17325947, 0.        ],\n",
       "       [0.85683403, 0.14316597, 0.        ],\n",
       "       [0.7529392 , 0.2470608 , 0.        ],\n",
       "       [0.86940585, 0.13059415, 0.        ],\n",
       "       [0.92686353, 0.07313647, 0.        ],\n",
       "       [0.86037379, 0.13962621, 0.        ],\n",
       "       [0.83162218, 0.16837782, 0.        ],\n",
       "       [0.10973058, 0.89026942, 1.        ],\n",
       "       [0.33006439, 0.66993561, 1.        ],\n",
       "       [0.8116273 , 0.1883727 , 0.        ],\n",
       "       [0.47015484, 0.52984516, 1.        ],\n",
       "       [0.86796249, 0.13203751, 0.        ],\n",
       "       [0.54166433, 0.45833567, 0.        ],\n",
       "       [0.39723299, 0.60276701, 1.        ],\n",
       "       [0.84514664, 0.15485336, 0.        ],\n",
       "       [0.85530094, 0.14469906, 0.        ],\n",
       "       [0.76218302, 0.23781698, 0.        ],\n",
       "       [0.61560318, 0.38439682, 0.        ],\n",
       "       [0.08602237, 0.91397763, 1.        ],\n",
       "       [0.61099207, 0.38900793, 0.        ],\n",
       "       [0.49185097, 0.50814903, 1.        ],\n",
       "       [0.51685944, 0.48314056, 0.        ],\n",
       "       [0.84036758, 0.15963242, 0.        ],\n",
       "       [0.07155926, 0.92844074, 1.        ],\n",
       "       [0.36590391, 0.63409609, 1.        ],\n",
       "       [0.24860383, 0.75139617, 1.        ],\n",
       "       [0.8781882 , 0.1218118 , 0.        ],\n",
       "       [0.11877468, 0.88122532, 1.        ],\n",
       "       [0.89238592, 0.10761408, 0.        ],\n",
       "       [0.3137173 , 0.6862827 , 1.        ],\n",
       "       [0.80999553, 0.19000447, 0.        ],\n",
       "       [0.58740421, 0.41259579, 0.        ],\n",
       "       [0.8295747 , 0.1704253 , 0.        ],\n",
       "       [0.88016725, 0.11983275, 0.        ],\n",
       "       [0.63528125, 0.36471875, 0.        ],\n",
       "       [0.88460419, 0.11539581, 0.        ],\n",
       "       [0.78642404, 0.21357596, 0.        ],\n",
       "       [0.77965235, 0.22034765, 0.        ],\n",
       "       [0.97040703, 0.02959297, 0.        ],\n",
       "       [0.83135017, 0.16864983, 0.        ],\n",
       "       [0.10154225, 0.89845775, 1.        ],\n",
       "       [0.89556569, 0.10443431, 0.        ],\n",
       "       [0.19439128, 0.80560872, 1.        ],\n",
       "       [0.6278959 , 0.3721041 , 0.        ],\n",
       "       [0.40150859, 0.59849141, 1.        ],\n",
       "       [0.87478041, 0.12521959, 0.        ],\n",
       "       [0.37449243, 0.62550757, 1.        ],\n",
       "       [0.42454499, 0.57545501, 1.        ],\n",
       "       [0.87951274, 0.12048726, 0.        ],\n",
       "       [0.21584698, 0.78415302, 1.        ],\n",
       "       [0.76478856, 0.23521144, 0.        ],\n",
       "       [0.8350578 , 0.1649422 , 0.        ],\n",
       "       [0.74189815, 0.25810185, 0.        ],\n",
       "       [0.08919996, 0.91080004, 1.        ],\n",
       "       [0.3035743 , 0.6964257 , 1.        ],\n",
       "       [0.05994556, 0.94005444, 1.        ],\n",
       "       [0.74488983, 0.25511017, 0.        ],\n",
       "       [0.87475059, 0.12524941, 0.        ],\n",
       "       [0.19199658, 0.80800342, 1.        ],\n",
       "       [0.86533836, 0.13466164, 0.        ],\n",
       "       [0.3042081 , 0.6957919 , 1.        ],\n",
       "       [0.7115354 , 0.2884646 , 0.        ],\n",
       "       [0.90724102, 0.09275898, 0.        ],\n",
       "       [0.81734948, 0.18265052, 0.        ],\n",
       "       [0.87565769, 0.12434231, 0.        ],\n",
       "       [0.8662664 , 0.1337336 , 0.        ],\n",
       "       [0.86388941, 0.13611059, 0.        ],\n",
       "       [0.40502293, 0.59497707, 1.        ],\n",
       "       [0.31022403, 0.68977597, 1.        ],\n",
       "       [0.8635539 , 0.1364461 , 0.        ],\n",
       "       [0.28261895, 0.71738105, 1.        ],\n",
       "       [0.21151059, 0.78848941, 1.        ],\n",
       "       [0.87670941, 0.12329059, 0.        ],\n",
       "       [0.56679482, 0.43320518, 0.        ],\n",
       "       [0.1654618 , 0.8345382 , 1.        ],\n",
       "       [0.56064427, 0.43935573, 0.        ],\n",
       "       [0.86614386, 0.13385614, 0.        ],\n",
       "       [0.88575933, 0.11424067, 0.        ],\n",
       "       [0.94705665, 0.05294335, 0.        ],\n",
       "       [0.58701323, 0.41298677, 0.        ],\n",
       "       [0.87508877, 0.12491123, 0.        ],\n",
       "       [0.24722576, 0.75277424, 1.        ],\n",
       "       [0.89308028, 0.10691972, 0.        ],\n",
       "       [0.83955029, 0.16044971, 0.        ],\n",
       "       [0.86032254, 0.13967746, 0.        ],\n",
       "       [0.1304495 , 0.8695505 , 1.        ],\n",
       "       [0.4066641 , 0.5933359 , 1.        ],\n",
       "       [0.27284623, 0.72715377, 1.        ],\n",
       "       [0.29905568, 0.70094432, 1.        ],\n",
       "       [0.26039408, 0.73960592, 1.        ],\n",
       "       [0.8325954 , 0.1674046 , 0.        ],\n",
       "       [0.30995893, 0.69004107, 1.        ],\n",
       "       [0.47608687, 0.52391313, 1.        ],\n",
       "       [0.84394852, 0.15605148, 0.        ],\n",
       "       [0.26213386, 0.73786614, 1.        ],\n",
       "       [0.02544288, 0.97455712, 1.        ],\n",
       "       [0.74081947, 0.25918053, 0.        ],\n",
       "       [0.91634901, 0.08365099, 0.        ],\n",
       "       [0.34168469, 0.65831531, 1.        ],\n",
       "       [0.24019782, 0.75980218, 1.        ],\n",
       "       [0.83470505, 0.16529495, 0.        ],\n",
       "       [0.27667463, 0.72332537, 1.        ],\n",
       "       [0.82194635, 0.17805365, 0.        ],\n",
       "       [0.87179384, 0.12820616, 0.        ],\n",
       "       [0.9561184 , 0.0438816 , 0.        ],\n",
       "       [0.26133302, 0.73866698, 1.        ],\n",
       "       [0.45384454, 0.54615546, 1.        ],\n",
       "       [0.73856219, 0.26143781, 0.        ],\n",
       "       [0.23986207, 0.76013793, 1.        ],\n",
       "       [0.0724087 , 0.9275913 , 1.        ],\n",
       "       [0.32526229, 0.67473771, 1.        ],\n",
       "       [0.11267957, 0.88732043, 1.        ],\n",
       "       [0.81853326, 0.18146674, 0.        ],\n",
       "       [0.20148457, 0.79851543, 1.        ],\n",
       "       [0.75926646, 0.24073354, 0.        ],\n",
       "       [0.89345113, 0.10654887, 0.        ],\n",
       "       [0.86393345, 0.13606655, 0.        ],\n",
       "       [0.25363783, 0.74636217, 1.        ],\n",
       "       [0.28806673, 0.71193327, 1.        ],\n",
       "       [0.85788687, 0.14211313, 0.        ],\n",
       "       [0.35868669, 0.64131331, 1.        ],\n",
       "       [0.11546454, 0.88453546, 1.        ],\n",
       "       [0.87123189, 0.12876811, 0.        ]])"
      ]
     },
     "execution_count": 41,
     "metadata": {},
     "output_type": "execute_result"
    }
   ],
   "source": [
    "y_pred = lr.predict(X_test)\n",
    "prob = lr.predict_proba(X_test)\n",
    "res = np.concatenate([prob, y_pred.reshape(-1, 1)], axis=1)\n",
    "res"
   ]
  },
  {
   "cell_type": "markdown",
   "metadata": {},
   "source": [
    "### variance in precisions and recall rate according to classifier threshold"
   ]
  },
  {
   "cell_type": "code",
   "execution_count": 57,
   "metadata": {},
   "outputs": [
    {
     "name": "stdout",
     "output_type": "stream",
     "text": [
      "th val : [0.04800277 0.05294335 0.06559024 0.07313647]\n",
      "precision val : [0.4180791  0.41477273 0.41714286 0.41954023]\n",
      "recalls val : [1.         0.98648649 0.98648649 0.98648649]\n"
     ]
    }
   ],
   "source": [
    "prob_positive_pred = lr.predict_proba(X_test)[:, 1]\n",
    "\n",
    "precisions, recalls, thresholds = precision_recall_curve(y_test, prob_positive_pred)\n",
    "\n",
    "print(\"th val : {}\".format(thresholds[:4]))\n",
    "print(\"precision val : {}\".format(precisions[:4]))\n",
    "print(\"recalls val : {}\".format(recalls[:4]))"
   ]
  },
  {
   "cell_type": "markdown",
   "metadata": {},
   "source": [
    "### visualization of precisions and recall rate with thresholds"
   ]
  },
  {
   "cell_type": "code",
   "execution_count": 63,
   "metadata": {},
   "outputs": [
    {
     "data": {
      "text/plain": [
       "<matplotlib.axes._subplots.AxesSubplot at 0x17dfa2161c0>"
      ]
     },
     "execution_count": 63,
     "metadata": {},
     "output_type": "execute_result"
    },
    {
     "data": {
      "image/png": "[encoded data removed]",
      "text/plain": [
       "<Figure size 432x288 with 1 Axes>"
      ]
     },
     "metadata": {
      "needs_background": "light"
     },
     "output_type": "display_data"
    }
   ],
   "source": [
    "df = {\"thresholds\":thresholds, \"precisions\":precisions[:-1], \"recalls\":recalls[:-1]}\n",
    "df = pd.DataFrame.from_dict(df)\n",
    "sns.lineplot(x=\"thresholds\", y=\"precisions\", data=df)\n",
    "sns.lineplot(x=\"thresholds\", y=\"recalls\", data=df)"
   ]
  },
  {
   "cell_type": "markdown",
   "metadata": {},
   "source": [
    "###  ROC Curve visualization"
   ]
  },
  {
   "cell_type": "code",
   "execution_count": 67,
   "metadata": {},
   "outputs": [
    {
     "name": "stdout",
     "output_type": "stream",
     "text": [
      "fpr val : [0.         0.         0.         0.00952381]\n",
      "tpr val : [0.         0.01351351 0.14864865 0.14864865]\n",
      "thresholds val : [1.97455712 0.97455712 0.89026942 0.88732043]\n"
     ]
    },
    {
     "data": {
      "text/plain": [
       "<matplotlib.axes._subplots.AxesSubplot at 0x17dfa1bf8b0>"
      ]
     },
     "execution_count": 67,
     "metadata": {},
     "output_type": "execute_result"
    },
    {
     "data": {
      "image/png": "[encoded data removed]",
      "text/plain": [
       "<Figure size 432x288 with 1 Axes>"
      ]
     },
     "metadata": {
      "needs_background": "light"
     },
     "output_type": "display_data"
    }
   ],
   "source": [
    "from sklearn.metrics import roc_curve\n",
    "\n",
    "fpr, tpr, thresholds = roc_curve(y_test,prob_positive_pred)\n",
    "\n",
    "print(\"fpr val : {}\".format(fpr[:4]))\n",
    "print(\"tpr val : {}\".format(tpr[:4]))\n",
    "print(\"thresholds val : {}\".format(thresholds[:4]))\n",
    "\n",
    "df = {\"threshold\":thresholds, \"fpr\":fpr, \"tpr\":tpr}\n",
    "df = pd.DataFrame.from_dict(df)\n",
    "sns.lineplot(x=\"fpr\", y=\"tpr\", data=df)"
   ]
  },
  {
   "cell_type": "markdown",
   "metadata": {},
   "source": [
    "### roc_auc_score"
   ]
  },
  {
   "cell_type": "code",
   "execution_count": 68,
   "metadata": {},
   "outputs": [
    {
     "name": "stdout",
     "output_type": "stream",
     "text": [
      "0.8369369369369369\n"
     ]
    }
   ],
   "source": [
    "from sklearn.metrics import roc_auc_score\n",
    "roc_score = roc_auc_score(y_test, prob_positive_pred)\n",
    "print(roc_score)"
   ]
  },
  {
   "cell_type": "code",
   "execution_count": null,
   "metadata": {},
   "outputs": [],
   "source": []
  }
 ],
 "metadata": {
  "kernelspec": {
   "display_name": "Python 3",
   "language": "python",
   "name": "python3"
  },
  "language_info": {
   "codemirror_mode": {
    "name": "ipython",
    "version": 3
   },
   "file_extension": ".py",
   "mimetype": "text/x-python",
   "name": "python",
   "nbconvert_exporter": "python",
   "pygments_lexer": "ipython3",
   "version": "3.8.3"
  }
 },
 "nbformat": 4,
 "nbformat_minor": 4
}
