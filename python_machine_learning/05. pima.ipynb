{
 "cells": [
  {
   "cell_type": "markdown",
   "metadata": {},
   "source": [
    "### import libs and quick view"
   ]
  },
  {
   "cell_type": "code",
   "execution_count": 1,
   "metadata": {},
   "outputs": [
    {
     "name": "stdout",
     "output_type": "stream",
     "text": [
      "<class 'pandas.core.frame.DataFrame'>\n",
      "RangeIndex: 768 entries, 0 to 767\n",
      "Data columns (total 9 columns):\n",
      " #   Column                    Non-Null Count  Dtype  \n",
      "---  ------                    --------------  -----  \n",
      " 0   Pregnancies               768 non-null    int64  \n",
      " 1   Glucose                   768 non-null    int64  \n",
      " 2   BloodPressure             768 non-null    int64  \n",
      " 3   SkinThickness             768 non-null    int64  \n",
      " 4   Insulin                   768 non-null    int64  \n",
      " 5   BMI                       768 non-null    float64\n",
      " 6   DiabetesPedigreeFunction  768 non-null    float64\n",
      " 7   Age                       768 non-null    int64  \n",
      " 8   Outcome                   768 non-null    int64  \n",
      "dtypes: float64(2), int64(7)\n",
      "memory usage: 54.1 KB\n"
     ]
    }
   ],
   "source": [
    "import pandas as pd\n",
    "import matplotlib.pyplot as plt\n",
    "import numpy as np\n",
    "import seaborn as sns\n",
    "\n",
    "df = pd.read_csv(\"res/pima/diabetes.csv\")\n",
    "df.info()"
   ]
  },
  {
   "cell_type": "code",
   "execution_count": 2,
   "metadata": {},
   "outputs": [
    {
     "data": {
      "text/html": [
       "<div>\n",
       "<style scoped>\n",
       "    .dataframe tbody tr th:only-of-type {\n",
       "        vertical-align: middle;\n",
       "    }\n",
       "\n",
       "    .dataframe tbody tr th {\n",
       "        vertical-align: top;\n",
       "    }\n",
       "\n",
       "    .dataframe thead th {\n",
       "        text-align: right;\n",
       "    }\n",
       "</style>\n",
       "<table border=\"1\" class=\"dataframe\">\n",
       "  <thead>\n",
       "    <tr style=\"text-align: right;\">\n",
       "      <th></th>\n",
       "      <th>Pregnancies</th>\n",
       "      <th>Glucose</th>\n",
       "      <th>BloodPressure</th>\n",
       "      <th>SkinThickness</th>\n",
       "      <th>Insulin</th>\n",
       "      <th>BMI</th>\n",
       "      <th>DiabetesPedigreeFunction</th>\n",
       "      <th>Age</th>\n",
       "      <th>Outcome</th>\n",
       "    </tr>\n",
       "  </thead>\n",
       "  <tbody>\n",
       "    <tr>\n",
       "      <th>0</th>\n",
       "      <td>6</td>\n",
       "      <td>148</td>\n",
       "      <td>72</td>\n",
       "      <td>35</td>\n",
       "      <td>0</td>\n",
       "      <td>33.6</td>\n",
       "      <td>0.627</td>\n",
       "      <td>50</td>\n",
       "      <td>1</td>\n",
       "    </tr>\n",
       "    <tr>\n",
       "      <th>1</th>\n",
       "      <td>1</td>\n",
       "      <td>85</td>\n",
       "      <td>66</td>\n",
       "      <td>29</td>\n",
       "      <td>0</td>\n",
       "      <td>26.6</td>\n",
       "      <td>0.351</td>\n",
       "      <td>31</td>\n",
       "      <td>0</td>\n",
       "    </tr>\n",
       "    <tr>\n",
       "      <th>2</th>\n",
       "      <td>8</td>\n",
       "      <td>183</td>\n",
       "      <td>64</td>\n",
       "      <td>0</td>\n",
       "      <td>0</td>\n",
       "      <td>23.3</td>\n",
       "      <td>0.672</td>\n",
       "      <td>32</td>\n",
       "      <td>1</td>\n",
       "    </tr>\n",
       "  </tbody>\n",
       "</table>\n",
       "</div>"
      ],
      "text/plain": [
       "   Pregnancies  Glucose  BloodPressure  SkinThickness  Insulin   BMI  \\\n",
       "0            6      148             72             35        0  33.6   \n",
       "1            1       85             66             29        0  26.6   \n",
       "2            8      183             64              0        0  23.3   \n",
       "\n",
       "   DiabetesPedigreeFunction  Age  Outcome  \n",
       "0                     0.627   50        1  \n",
       "1                     0.351   31        0  \n",
       "2                     0.672   32        1  "
      ]
     },
     "execution_count": 2,
     "metadata": {},
     "output_type": "execute_result"
    }
   ],
   "source": [
    "df.head(3)"
   ]
  },
  {
   "cell_type": "code",
   "execution_count": 3,
   "metadata": {
    "scrolled": false
   },
   "outputs": [
    {
     "data": {
      "text/html": [
       "<div>\n",
       "<style scoped>\n",
       "    .dataframe tbody tr th:only-of-type {\n",
       "        vertical-align: middle;\n",
       "    }\n",
       "\n",
       "    .dataframe tbody tr th {\n",
       "        vertical-align: top;\n",
       "    }\n",
       "\n",
       "    .dataframe thead th {\n",
       "        text-align: right;\n",
       "    }\n",
       "</style>\n",
       "<table border=\"1\" class=\"dataframe\">\n",
       "  <thead>\n",
       "    <tr style=\"text-align: right;\">\n",
       "      <th></th>\n",
       "      <th>Pregnancies</th>\n",
       "      <th>Glucose</th>\n",
       "      <th>BloodPressure</th>\n",
       "      <th>SkinThickness</th>\n",
       "      <th>Insulin</th>\n",
       "      <th>BMI</th>\n",
       "      <th>DiabetesPedigreeFunction</th>\n",
       "      <th>Age</th>\n",
       "      <th>Outcome</th>\n",
       "    </tr>\n",
       "  </thead>\n",
       "  <tbody>\n",
       "    <tr>\n",
       "      <th>count</th>\n",
       "      <td>768.000000</td>\n",
       "      <td>768.000000</td>\n",
       "      <td>768.000000</td>\n",
       "      <td>768.000000</td>\n",
       "      <td>768.000000</td>\n",
       "      <td>768.000000</td>\n",
       "      <td>768.000000</td>\n",
       "      <td>768.000000</td>\n",
       "      <td>768.000000</td>\n",
       "    </tr>\n",
       "    <tr>\n",
       "      <th>mean</th>\n",
       "      <td>3.845052</td>\n",
       "      <td>120.894531</td>\n",
       "      <td>69.105469</td>\n",
       "      <td>20.536458</td>\n",
       "      <td>79.799479</td>\n",
       "      <td>31.992578</td>\n",
       "      <td>0.471876</td>\n",
       "      <td>33.240885</td>\n",
       "      <td>0.348958</td>\n",
       "    </tr>\n",
       "    <tr>\n",
       "      <th>std</th>\n",
       "      <td>3.369578</td>\n",
       "      <td>31.972618</td>\n",
       "      <td>19.355807</td>\n",
       "      <td>15.952218</td>\n",
       "      <td>115.244002</td>\n",
       "      <td>7.884160</td>\n",
       "      <td>0.331329</td>\n",
       "      <td>11.760232</td>\n",
       "      <td>0.476951</td>\n",
       "    </tr>\n",
       "    <tr>\n",
       "      <th>min</th>\n",
       "      <td>0.000000</td>\n",
       "      <td>0.000000</td>\n",
       "      <td>0.000000</td>\n",
       "      <td>0.000000</td>\n",
       "      <td>0.000000</td>\n",
       "      <td>0.000000</td>\n",
       "      <td>0.078000</td>\n",
       "      <td>21.000000</td>\n",
       "      <td>0.000000</td>\n",
       "    </tr>\n",
       "    <tr>\n",
       "      <th>25%</th>\n",
       "      <td>1.000000</td>\n",
       "      <td>99.000000</td>\n",
       "      <td>62.000000</td>\n",
       "      <td>0.000000</td>\n",
       "      <td>0.000000</td>\n",
       "      <td>27.300000</td>\n",
       "      <td>0.243750</td>\n",
       "      <td>24.000000</td>\n",
       "      <td>0.000000</td>\n",
       "    </tr>\n",
       "    <tr>\n",
       "      <th>50%</th>\n",
       "      <td>3.000000</td>\n",
       "      <td>117.000000</td>\n",
       "      <td>72.000000</td>\n",
       "      <td>23.000000</td>\n",
       "      <td>30.500000</td>\n",
       "      <td>32.000000</td>\n",
       "      <td>0.372500</td>\n",
       "      <td>29.000000</td>\n",
       "      <td>0.000000</td>\n",
       "    </tr>\n",
       "    <tr>\n",
       "      <th>75%</th>\n",
       "      <td>6.000000</td>\n",
       "      <td>140.250000</td>\n",
       "      <td>80.000000</td>\n",
       "      <td>32.000000</td>\n",
       "      <td>127.250000</td>\n",
       "      <td>36.600000</td>\n",
       "      <td>0.626250</td>\n",
       "      <td>41.000000</td>\n",
       "      <td>1.000000</td>\n",
       "    </tr>\n",
       "    <tr>\n",
       "      <th>max</th>\n",
       "      <td>17.000000</td>\n",
       "      <td>199.000000</td>\n",
       "      <td>122.000000</td>\n",
       "      <td>99.000000</td>\n",
       "      <td>846.000000</td>\n",
       "      <td>67.100000</td>\n",
       "      <td>2.420000</td>\n",
       "      <td>81.000000</td>\n",
       "      <td>1.000000</td>\n",
       "    </tr>\n",
       "  </tbody>\n",
       "</table>\n",
       "</div>"
      ],
      "text/plain": [
       "       Pregnancies     Glucose  BloodPressure  SkinThickness     Insulin  \\\n",
       "count   768.000000  768.000000     768.000000     768.000000  768.000000   \n",
       "mean      3.845052  120.894531      69.105469      20.536458   79.799479   \n",
       "std       3.369578   31.972618      19.355807      15.952218  115.244002   \n",
       "min       0.000000    0.000000       0.000000       0.000000    0.000000   \n",
       "25%       1.000000   99.000000      62.000000       0.000000    0.000000   \n",
       "50%       3.000000  117.000000      72.000000      23.000000   30.500000   \n",
       "75%       6.000000  140.250000      80.000000      32.000000  127.250000   \n",
       "max      17.000000  199.000000     122.000000      99.000000  846.000000   \n",
       "\n",
       "              BMI  DiabetesPedigreeFunction         Age     Outcome  \n",
       "count  768.000000                768.000000  768.000000  768.000000  \n",
       "mean    31.992578                  0.471876   33.240885    0.348958  \n",
       "std      7.884160                  0.331329   11.760232    0.476951  \n",
       "min      0.000000                  0.078000   21.000000    0.000000  \n",
       "25%     27.300000                  0.243750   24.000000    0.000000  \n",
       "50%     32.000000                  0.372500   29.000000    0.000000  \n",
       "75%     36.600000                  0.626250   41.000000    1.000000  \n",
       "max     67.100000                  2.420000   81.000000    1.000000  "
      ]
     },
     "execution_count": 3,
     "metadata": {},
     "output_type": "execute_result"
    }
   ],
   "source": [
    "df.describe()"
   ]
  },
  {
   "cell_type": "markdown",
   "metadata": {},
   "source": [
    "### EDA"
   ]
  },
  {
   "cell_type": "code",
   "execution_count": 4,
   "metadata": {},
   "outputs": [],
   "source": [
    "#sns.pairplot(df)"
   ]
  },
  {
   "cell_type": "code",
   "execution_count": 5,
   "metadata": {},
   "outputs": [
    {
     "data": {
      "text/plain": [
       "<matplotlib.axes._subplots.AxesSubplot at 0x1ff6d4e7f10>"
      ]
     },
     "execution_count": 5,
     "metadata": {},
     "output_type": "execute_result"
    },
    {
     "data": {
      "image/png": "[encoded data removed]",
      "text/plain": [
       "<Figure size 432x288 with 1 Axes>"
      ]
     },
     "metadata": {
      "needs_background": "light"
     },
     "output_type": "display_data"
    }
   ],
   "source": [
    "sns.boxplot(y=\"Pregnancies\", data=df)"
   ]
  },
  {
   "cell_type": "code",
   "execution_count": 6,
   "metadata": {},
   "outputs": [
    {
     "data": {
      "text/plain": [
       "<matplotlib.axes._subplots.AxesSubplot at 0x1ff6dc4f130>"
      ]
     },
     "execution_count": 6,
     "metadata": {},
     "output_type": "execute_result"
    },
    {
     "data": {
      "image/png": "[encoded data removed]",
      "text/plain": [
       "<Figure size 432x288 with 1 Axes>"
      ]
     },
     "metadata": {
      "needs_background": "light"
     },
     "output_type": "display_data"
    }
   ],
   "source": [
    "sns.boxplot(x=\"Outcome\", y=\"Pregnancies\", data=df)"
   ]
  },
  {
   "cell_type": "code",
   "execution_count": 7,
   "metadata": {},
   "outputs": [
    {
     "data": {
      "text/plain": [
       "<matplotlib.axes._subplots.AxesSubplot at 0x1ff6dcd2a90>"
      ]
     },
     "execution_count": 7,
     "metadata": {},
     "output_type": "execute_result"
    },
    {
     "data": {
      "image/png": "[encoded data removed]",
      "text/plain": [
       "<Figure size 432x288 with 1 Axes>"
      ]
     },
     "metadata": {
      "needs_background": "light"
     },
     "output_type": "display_data"
    }
   ],
   "source": [
    "sns.boxplot(x=\"Outcome\", y=\"BMI\", data=df)"
   ]
  },
  {
   "cell_type": "code",
   "execution_count": 8,
   "metadata": {},
   "outputs": [
    {
     "data": {
      "text/plain": [
       "<matplotlib.axes._subplots.AxesSubplot at 0x1ff6dd4ba00>"
      ]
     },
     "execution_count": 8,
     "metadata": {},
     "output_type": "execute_result"
    },
    {
     "data": {
      "image/png": "[encoded data removed]",
      "text/plain": [
       "<Figure size 432x288 with 1 Axes>"
      ]
     },
     "metadata": {
      "needs_background": "light"
     },
     "output_type": "display_data"
    }
   ],
   "source": [
    "sns.boxplot(x=\"Outcome\", y=\"Insulin\", data=df)"
   ]
  },
  {
   "cell_type": "code",
   "execution_count": 9,
   "metadata": {},
   "outputs": [
    {
     "data": {
      "text/plain": [
       "<matplotlib.axes._subplots.AxesSubplot at 0x1ff6ddb6c40>"
      ]
     },
     "execution_count": 9,
     "metadata": {},
     "output_type": "execute_result"
    },
    {
     "data": {
      "image/png": "[encoded data removed]",
      "text/plain": [
       "<Figure size 864x432 with 1 Axes>"
      ]
     },
     "metadata": {
      "needs_background": "light"
     },
     "output_type": "display_data"
    }
   ],
   "source": [
    "plt.figure(figsize=(12,6))\n",
    "sns.barplot(x=\"Age\", y=\"Outcome\", data=df)"
   ]
  },
  {
   "cell_type": "code",
   "execution_count": 10,
   "metadata": {},
   "outputs": [
    {
     "data": {
      "text/plain": [
       "<matplotlib.axes._subplots.AxesSubplot at 0x1ff6de0b9d0>"
      ]
     },
     "execution_count": 10,
     "metadata": {},
     "output_type": "execute_result"
    },
    {
     "data": {
      "image/png": "[encoded data removed]",
      "text/plain": [
       "<Figure size 864x432 with 1 Axes>"
      ]
     },
     "metadata": {
      "needs_background": "light"
     },
     "output_type": "display_data"
    }
   ],
   "source": [
    "plt.figure(figsize=(12,6))\n",
    "sns.barplot(x=\"Pregnancies\", y=\"Outcome\", data=df)"
   ]
  },
  {
   "cell_type": "markdown",
   "metadata": {},
   "source": [
    "### Preprocessing"
   ]
  },
  {
   "cell_type": "code",
   "execution_count": 11,
   "metadata": {},
   "outputs": [
    {
     "data": {
      "text/plain": [
       "Pregnancies                 0\n",
       "Glucose                     0\n",
       "BloodPressure               0\n",
       "SkinThickness               0\n",
       "Insulin                     0\n",
       "BMI                         0\n",
       "DiabetesPedigreeFunction    0\n",
       "Age                         0\n",
       "Outcome                     0\n",
       "dtype: int64"
      ]
     },
     "execution_count": 11,
     "metadata": {},
     "output_type": "execute_result"
    }
   ],
   "source": [
    "from sklearn.preprocessing import LabelEncoder\n",
    "from sklearn.preprocessing import StandardScaler\n",
    "from sklearn.model_selection import train_test_split\n",
    "\n",
    "df.isnull().sum()"
   ]
  },
  {
   "cell_type": "code",
   "execution_count": 12,
   "metadata": {},
   "outputs": [
    {
     "data": {
      "text/html": [
       "<div>\n",
       "<style scoped>\n",
       "    .dataframe tbody tr th:only-of-type {\n",
       "        vertical-align: middle;\n",
       "    }\n",
       "\n",
       "    .dataframe tbody tr th {\n",
       "        vertical-align: top;\n",
       "    }\n",
       "\n",
       "    .dataframe thead th {\n",
       "        text-align: right;\n",
       "    }\n",
       "</style>\n",
       "<table border=\"1\" class=\"dataframe\">\n",
       "  <thead>\n",
       "    <tr style=\"text-align: right;\">\n",
       "      <th></th>\n",
       "      <th>Pregnancies</th>\n",
       "      <th>Glucose</th>\n",
       "      <th>BloodPressure</th>\n",
       "      <th>SkinThickness</th>\n",
       "      <th>Insulin</th>\n",
       "      <th>BMI</th>\n",
       "      <th>DiabetesPedigreeFunction</th>\n",
       "      <th>Age</th>\n",
       "      <th>Outcome</th>\n",
       "    </tr>\n",
       "  </thead>\n",
       "  <tbody>\n",
       "    <tr>\n",
       "      <th>count</th>\n",
       "      <td>768.000000</td>\n",
       "      <td>768.000000</td>\n",
       "      <td>768.000000</td>\n",
       "      <td>768.000000</td>\n",
       "      <td>768.000000</td>\n",
       "      <td>768.000000</td>\n",
       "      <td>768.000000</td>\n",
       "      <td>768.000000</td>\n",
       "      <td>768.000000</td>\n",
       "    </tr>\n",
       "    <tr>\n",
       "      <th>mean</th>\n",
       "      <td>3.845052</td>\n",
       "      <td>120.894531</td>\n",
       "      <td>69.105469</td>\n",
       "      <td>20.536458</td>\n",
       "      <td>79.799479</td>\n",
       "      <td>31.992578</td>\n",
       "      <td>0.471876</td>\n",
       "      <td>33.240885</td>\n",
       "      <td>0.348958</td>\n",
       "    </tr>\n",
       "    <tr>\n",
       "      <th>std</th>\n",
       "      <td>3.369578</td>\n",
       "      <td>31.972618</td>\n",
       "      <td>19.355807</td>\n",
       "      <td>15.952218</td>\n",
       "      <td>115.244002</td>\n",
       "      <td>7.884160</td>\n",
       "      <td>0.331329</td>\n",
       "      <td>11.760232</td>\n",
       "      <td>0.476951</td>\n",
       "    </tr>\n",
       "    <tr>\n",
       "      <th>min</th>\n",
       "      <td>0.000000</td>\n",
       "      <td>0.000000</td>\n",
       "      <td>0.000000</td>\n",
       "      <td>0.000000</td>\n",
       "      <td>0.000000</td>\n",
       "      <td>0.000000</td>\n",
       "      <td>0.078000</td>\n",
       "      <td>21.000000</td>\n",
       "      <td>0.000000</td>\n",
       "    </tr>\n",
       "    <tr>\n",
       "      <th>25%</th>\n",
       "      <td>1.000000</td>\n",
       "      <td>99.000000</td>\n",
       "      <td>62.000000</td>\n",
       "      <td>0.000000</td>\n",
       "      <td>0.000000</td>\n",
       "      <td>27.300000</td>\n",
       "      <td>0.243750</td>\n",
       "      <td>24.000000</td>\n",
       "      <td>0.000000</td>\n",
       "    </tr>\n",
       "    <tr>\n",
       "      <th>50%</th>\n",
       "      <td>3.000000</td>\n",
       "      <td>117.000000</td>\n",
       "      <td>72.000000</td>\n",
       "      <td>23.000000</td>\n",
       "      <td>30.500000</td>\n",
       "      <td>32.000000</td>\n",
       "      <td>0.372500</td>\n",
       "      <td>29.000000</td>\n",
       "      <td>0.000000</td>\n",
       "    </tr>\n",
       "    <tr>\n",
       "      <th>75%</th>\n",
       "      <td>6.000000</td>\n",
       "      <td>140.250000</td>\n",
       "      <td>80.000000</td>\n",
       "      <td>32.000000</td>\n",
       "      <td>127.250000</td>\n",
       "      <td>36.600000</td>\n",
       "      <td>0.626250</td>\n",
       "      <td>41.000000</td>\n",
       "      <td>1.000000</td>\n",
       "    </tr>\n",
       "    <tr>\n",
       "      <th>max</th>\n",
       "      <td>17.000000</td>\n",
       "      <td>199.000000</td>\n",
       "      <td>122.000000</td>\n",
       "      <td>99.000000</td>\n",
       "      <td>846.000000</td>\n",
       "      <td>67.100000</td>\n",
       "      <td>2.420000</td>\n",
       "      <td>81.000000</td>\n",
       "      <td>1.000000</td>\n",
       "    </tr>\n",
       "  </tbody>\n",
       "</table>\n",
       "</div>"
      ],
      "text/plain": [
       "       Pregnancies     Glucose  BloodPressure  SkinThickness     Insulin  \\\n",
       "count   768.000000  768.000000     768.000000     768.000000  768.000000   \n",
       "mean      3.845052  120.894531      69.105469      20.536458   79.799479   \n",
       "std       3.369578   31.972618      19.355807      15.952218  115.244002   \n",
       "min       0.000000    0.000000       0.000000       0.000000    0.000000   \n",
       "25%       1.000000   99.000000      62.000000       0.000000    0.000000   \n",
       "50%       3.000000  117.000000      72.000000      23.000000   30.500000   \n",
       "75%       6.000000  140.250000      80.000000      32.000000  127.250000   \n",
       "max      17.000000  199.000000     122.000000      99.000000  846.000000   \n",
       "\n",
       "              BMI  DiabetesPedigreeFunction         Age     Outcome  \n",
       "count  768.000000                768.000000  768.000000  768.000000  \n",
       "mean    31.992578                  0.471876   33.240885    0.348958  \n",
       "std      7.884160                  0.331329   11.760232    0.476951  \n",
       "min      0.000000                  0.078000   21.000000    0.000000  \n",
       "25%     27.300000                  0.243750   24.000000    0.000000  \n",
       "50%     32.000000                  0.372500   29.000000    0.000000  \n",
       "75%     36.600000                  0.626250   41.000000    1.000000  \n",
       "max     67.100000                  2.420000   81.000000    1.000000  "
      ]
     },
     "execution_count": 12,
     "metadata": {},
     "output_type": "execute_result"
    }
   ],
   "source": [
    "df.describe()"
   ]
  },
  {
   "cell_type": "code",
   "execution_count": 13,
   "metadata": {},
   "outputs": [
    {
     "name": "stdout",
     "output_type": "stream",
     "text": [
      "(768, 9)\n",
      "Pregnancies.  threshold 13.95 num of outlier : 4\n",
      "88     15\n",
      "159    17\n",
      "298    14\n",
      "455    14\n",
      "Name: Pregnancies, dtype: int64\n",
      "Glucose.  threshold 216.81 num of outlier : 0\n",
      "BloodPressure.  threshold 127.17 num of outlier : 0\n",
      "SkinThickness.  threshold 68.39 num of outlier : 1\n",
      "579    99\n",
      "Name: SkinThickness, dtype: int64\n",
      "Insulin.  threshold 425.53 num of outlier : 18\n",
      "8      543\n",
      "13     846\n",
      "111    495\n",
      "153    485\n",
      "186    495\n",
      "220    478\n",
      "228    744\n",
      "247    680\n",
      "286    545\n",
      "370    465\n",
      "409    579\n",
      "415    474\n",
      "486    480\n",
      "584    600\n",
      "645    440\n",
      "655    540\n",
      "695    480\n",
      "753    510\n",
      "Name: Insulin, dtype: int64\n",
      "BMI.  threshold 55.65 num of outlier : 3\n",
      "177    67.1\n",
      "445    59.4\n",
      "673    57.3\n",
      "Name: BMI, dtype: float64\n",
      "DiabetesPedigreeFunction.  threshold 1.47 num of outlier : 11\n",
      "4      2.288\n",
      "45     1.893\n",
      "58     1.781\n",
      "228    2.329\n",
      "330    1.476\n",
      "370    2.137\n",
      "371    1.731\n",
      "395    1.600\n",
      "445    2.420\n",
      "593    1.699\n",
      "621    1.698\n",
      "Name: DiabetesPedigreeFunction, dtype: float64\n",
      "Age.  threshold 68.52 num of outlier : 5\n",
      "123    69\n",
      "453    72\n",
      "459    81\n",
      "666    70\n",
      "684    69\n",
      "Name: Age, dtype: int64\n",
      "Outcome.  threshold 1.78 num of outlier : 0\n"
     ]
    }
   ],
   "source": [
    "def show_upper_outlier(df, stdev=3, show_total=False):\n",
    "\n",
    "    # lower bound outliers\n",
    "    cols = df.columns\n",
    "    print(df.shape)\n",
    "    for col in cols:\n",
    "        mean = df[col].mean()\n",
    "        std = df[col].std()\n",
    "        threshold = mean + stdev * std\n",
    "        n_outlier = np.sum(df[col] > threshold)\n",
    "        print(col + \".  threshold \"+str(round(threshold,2))+\" num of outlier : \"+str(n_outlier))\n",
    "        if (show_total == True) & (n_outlier != 0):\n",
    "            print(df.loc[(df[col] > threshold),col])\n",
    "\n",
    "show_upper_outlier(df,stdev=3, show_total=True)"
   ]
  },
  {
   "cell_type": "code",
   "execution_count": 14,
   "metadata": {},
   "outputs": [],
   "source": [
    "def upper_outlier_transform(df, stdev=3):\n",
    "\n",
    "    cols = df.columns\n",
    "    print(\"before drop outlier : {}\".format(df.shape))\n",
    "    for col in cols:\n",
    "        mean = df[col].mean()\n",
    "        std = df[col].std()\n",
    "        threshold = mean + stdev * std\n",
    "        n_outlier = np.sum(df[col] > threshold)\n",
    "        #print(df[df[col] > threshold])\n",
    "        df.drop(df[df[col] > threshold].index[:], inplace=True)\n",
    "\n",
    "    df.dropna()\n",
    "    print(\"after drop outlier : {}\".format(df.shape))"
   ]
  },
  {
   "cell_type": "markdown",
   "metadata": {},
   "source": [
    "### Scaling"
   ]
  },
  {
   "cell_type": "code",
   "execution_count": 15,
   "metadata": {},
   "outputs": [
    {
     "name": "stdout",
     "output_type": "stream",
     "text": [
      "[[ 0.63994726  0.84832379  0.14964075  0.90726993 -0.69289057  0.20401277]\n",
      " [-0.84488505 -1.12339636 -0.16054575  0.53090156 -0.69289057 -0.68442195]\n",
      " [ 1.23388019  1.94372388 -0.26394125 -1.28821221 -0.69289057 -1.10325546]\n",
      " ...\n",
      " [ 0.3429808   0.00330087  0.14964075  0.15453319  0.27959377 -0.73518964]\n",
      " [-0.84488505  0.1597866  -0.47073225 -1.28821221 -0.69289057 -0.24020459]\n",
      " [-0.84488505 -0.8730192   0.04624525  0.65635768 -0.69289057 -0.20212881]]\n"
     ]
    }
   ],
   "source": [
    "def df_transform(df):\n",
    "    X = df.loc[:, df.columns != \"Outcome\"]\n",
    "    y = df.loc[:, df.columns == \"Outcome\"]\n",
    "    scaler = StandardScaler()\n",
    "    X_scaled = scaler.fit_transform(X)\n",
    "    \n",
    "    return X, y, X_scaled\n",
    "\n",
    "X, y, X_scaled = df_transform(df)\n",
    "print(X_scaled[:,:6])"
   ]
  },
  {
   "cell_type": "markdown",
   "metadata": {},
   "source": [
    "### modeling process"
   ]
  },
  {
   "cell_type": "code",
   "execution_count": 16,
   "metadata": {},
   "outputs": [
    {
     "name": "stdout",
     "output_type": "stream",
     "text": [
      "(614, 8)\n",
      "(614, 8)\n"
     ]
    },
    {
     "name": "stderr",
     "output_type": "stream",
     "text": [
      "C:\\Users\\ADMIN\\anaconda3\\lib\\site-packages\\sklearn\\model_selection\\_validation.py:548: FitFailedWarning: Estimator fit failed. The score on this train-test partition for these parameters will be set to nan. Details: \n",
      "Traceback (most recent call last):\n",
      "  File \"C:\\Users\\ADMIN\\anaconda3\\lib\\site-packages\\sklearn\\model_selection\\_validation.py\", line 531, in _fit_and_score\n",
      "    estimator.fit(X_train, y_train, **fit_params)\n",
      "  File \"C:\\Users\\ADMIN\\anaconda3\\lib\\site-packages\\sklearn\\linear_model\\_logistic.py\", line 1304, in fit\n",
      "    solver = _check_solver(self.solver, self.penalty, self.dual)\n",
      "  File \"C:\\Users\\ADMIN\\anaconda3\\lib\\site-packages\\sklearn\\linear_model\\_logistic.py\", line 442, in _check_solver\n",
      "    raise ValueError(\"Solver %s supports only 'l2' or 'none' penalties, \"\n",
      "ValueError: Solver lbfgs supports only 'l2' or 'none' penalties, got l1 penalty.\n",
      "\n",
      "  warnings.warn(\"Estimator fit failed. The score on this train-test\"\n",
      "C:\\Users\\ADMIN\\anaconda3\\lib\\site-packages\\sklearn\\utils\\validation.py:73: DataConversionWarning: A column-vector y was passed when a 1d array was expected. Please change the shape of y to (n_samples, ), for example using ravel().\n",
      "  return f(**kwargs)\n",
      "C:\\Users\\ADMIN\\anaconda3\\lib\\site-packages\\sklearn\\utils\\validation.py:73: DataConversionWarning: A column-vector y was passed when a 1d array was expected. Please change the shape of y to (n_samples, ), for example using ravel().\n",
      "  return f(**kwargs)\n",
      "C:\\Users\\ADMIN\\anaconda3\\lib\\site-packages\\sklearn\\utils\\validation.py:73: DataConversionWarning: A column-vector y was passed when a 1d array was expected. Please change the shape of y to (n_samples, ), for example using ravel().\n",
      "  return f(**kwargs)\n",
      "C:\\Users\\ADMIN\\anaconda3\\lib\\site-packages\\sklearn\\utils\\validation.py:73: DataConversionWarning: A column-vector y was passed when a 1d array was expected. Please change the shape of y to (n_samples, ), for example using ravel().\n",
      "  return f(**kwargs)\n",
      "C:\\Users\\ADMIN\\anaconda3\\lib\\site-packages\\sklearn\\utils\\validation.py:73: DataConversionWarning: A column-vector y was passed when a 1d array was expected. Please change the shape of y to (n_samples, ), for example using ravel().\n",
      "  return f(**kwargs)\n",
      "C:\\Users\\ADMIN\\anaconda3\\lib\\site-packages\\sklearn\\model_selection\\_validation.py:548: FitFailedWarning: Estimator fit failed. The score on this train-test partition for these parameters will be set to nan. Details: \n",
      "Traceback (most recent call last):\n",
      "  File \"C:\\Users\\ADMIN\\anaconda3\\lib\\site-packages\\sklearn\\model_selection\\_validation.py\", line 531, in _fit_and_score\n",
      "    estimator.fit(X_train, y_train, **fit_params)\n",
      "  File \"C:\\Users\\ADMIN\\anaconda3\\lib\\site-packages\\sklearn\\linear_model\\_logistic.py\", line 1304, in fit\n",
      "    solver = _check_solver(self.solver, self.penalty, self.dual)\n",
      "  File \"C:\\Users\\ADMIN\\anaconda3\\lib\\site-packages\\sklearn\\linear_model\\_logistic.py\", line 442, in _check_solver\n",
      "    raise ValueError(\"Solver %s supports only 'l2' or 'none' penalties, \"\n",
      "ValueError: Solver lbfgs supports only 'l2' or 'none' penalties, got elasticnet penalty.\n",
      "\n",
      "  warnings.warn(\"Estimator fit failed. The score on this train-test\"\n",
      "C:\\Users\\ADMIN\\anaconda3\\lib\\site-packages\\sklearn\\utils\\validation.py:73: DataConversionWarning: A column-vector y was passed when a 1d array was expected. Please change the shape of y to (n_samples, ), for example using ravel().\n",
      "  return f(**kwargs)\n",
      "C:\\Users\\ADMIN\\anaconda3\\lib\\site-packages\\sklearn\\utils\\validation.py:73: DataConversionWarning: A column-vector y was passed when a 1d array was expected. Please change the shape of y to (n_samples, ), for example using ravel().\n",
      "  return f(**kwargs)\n",
      "C:\\Users\\ADMIN\\anaconda3\\lib\\site-packages\\sklearn\\utils\\validation.py:73: DataConversionWarning: A column-vector y was passed when a 1d array was expected. Please change the shape of y to (n_samples, ), for example using ravel().\n",
      "  return f(**kwargs)\n",
      "C:\\Users\\ADMIN\\anaconda3\\lib\\site-packages\\sklearn\\utils\\validation.py:73: DataConversionWarning: A column-vector y was passed when a 1d array was expected. Please change the shape of y to (n_samples, ), for example using ravel().\n",
      "  return f(**kwargs)\n",
      "C:\\Users\\ADMIN\\anaconda3\\lib\\site-packages\\sklearn\\utils\\validation.py:73: DataConversionWarning: A column-vector y was passed when a 1d array was expected. Please change the shape of y to (n_samples, ), for example using ravel().\n",
      "  return f(**kwargs)\n",
      "C:\\Users\\ADMIN\\anaconda3\\lib\\site-packages\\sklearn\\utils\\validation.py:73: DataConversionWarning: A column-vector y was passed when a 1d array was expected. Please change the shape of y to (n_samples, ), for example using ravel().\n",
      "  return f(**kwargs)\n",
      "C:\\Users\\ADMIN\\anaconda3\\lib\\site-packages\\sklearn\\utils\\validation.py:73: DataConversionWarning: A column-vector y was passed when a 1d array was expected. Please change the shape of y to (n_samples, ), for example using ravel().\n",
      "  return f(**kwargs)\n",
      "C:\\Users\\ADMIN\\anaconda3\\lib\\site-packages\\sklearn\\utils\\validation.py:73: DataConversionWarning: A column-vector y was passed when a 1d array was expected. Please change the shape of y to (n_samples, ), for example using ravel().\n",
      "  return f(**kwargs)\n",
      "C:\\Users\\ADMIN\\anaconda3\\lib\\site-packages\\sklearn\\utils\\validation.py:73: DataConversionWarning: A column-vector y was passed when a 1d array was expected. Please change the shape of y to (n_samples, ), for example using ravel().\n",
      "  return f(**kwargs)\n",
      "C:\\Users\\ADMIN\\anaconda3\\lib\\site-packages\\sklearn\\utils\\validation.py:73: DataConversionWarning: A column-vector y was passed when a 1d array was expected. Please change the shape of y to (n_samples, ), for example using ravel().\n",
      "  return f(**kwargs)\n",
      "C:\\Users\\ADMIN\\anaconda3\\lib\\site-packages\\sklearn\\utils\\validation.py:73: DataConversionWarning: A column-vector y was passed when a 1d array was expected. Please change the shape of y to (n_samples, ), for example using ravel().\n",
      "  return f(**kwargs)\n",
      "C:\\Users\\ADMIN\\anaconda3\\lib\\site-packages\\sklearn\\utils\\validation.py:73: DataConversionWarning: A column-vector y was passed when a 1d array was expected. Please change the shape of y to (n_samples, ), for example using ravel().\n",
      "  return f(**kwargs)\n",
      "C:\\Users\\ADMIN\\anaconda3\\lib\\site-packages\\sklearn\\utils\\validation.py:73: DataConversionWarning: A column-vector y was passed when a 1d array was expected. Please change the shape of y to (n_samples, ), for example using ravel().\n",
      "  return f(**kwargs)\n",
      "C:\\Users\\ADMIN\\anaconda3\\lib\\site-packages\\sklearn\\utils\\validation.py:73: DataConversionWarning: A column-vector y was passed when a 1d array was expected. Please change the shape of y to (n_samples, ), for example using ravel().\n",
      "  return f(**kwargs)\n",
      "C:\\Users\\ADMIN\\anaconda3\\lib\\site-packages\\sklearn\\utils\\validation.py:73: DataConversionWarning: A column-vector y was passed when a 1d array was expected. Please change the shape of y to (n_samples, ), for example using ravel().\n",
      "  return f(**kwargs)\n",
      "C:\\Users\\ADMIN\\anaconda3\\lib\\site-packages\\sklearn\\utils\\validation.py:73: DataConversionWarning: A column-vector y was passed when a 1d array was expected. Please change the shape of y to (n_samples, ), for example using ravel().\n",
      "  return f(**kwargs)\n",
      "C:\\Users\\ADMIN\\anaconda3\\lib\\site-packages\\sklearn\\utils\\validation.py:73: DataConversionWarning: A column-vector y was passed when a 1d array was expected. Please change the shape of y to (n_samples, ), for example using ravel().\n",
      "  return f(**kwargs)\n",
      "C:\\Users\\ADMIN\\anaconda3\\lib\\site-packages\\sklearn\\utils\\validation.py:73: DataConversionWarning: A column-vector y was passed when a 1d array was expected. Please change the shape of y to (n_samples, ), for example using ravel().\n",
      "  return f(**kwargs)\n",
      "C:\\Users\\ADMIN\\anaconda3\\lib\\site-packages\\sklearn\\utils\\validation.py:73: DataConversionWarning: A column-vector y was passed when a 1d array was expected. Please change the shape of y to (n_samples, ), for example using ravel().\n",
      "  return f(**kwargs)\n",
      "C:\\Users\\ADMIN\\anaconda3\\lib\\site-packages\\sklearn\\utils\\validation.py:73: DataConversionWarning: A column-vector y was passed when a 1d array was expected. Please change the shape of y to (n_samples, ), for example using ravel().\n",
      "  return f(**kwargs)\n",
      "C:\\Users\\ADMIN\\anaconda3\\lib\\site-packages\\sklearn\\utils\\validation.py:73: DataConversionWarning: A column-vector y was passed when a 1d array was expected. Please change the shape of y to (n_samples, ), for example using ravel().\n",
      "  return f(**kwargs)\n",
      "C:\\Users\\ADMIN\\anaconda3\\lib\\site-packages\\sklearn\\utils\\validation.py:73: DataConversionWarning: A column-vector y was passed when a 1d array was expected. Please change the shape of y to (n_samples, ), for example using ravel().\n",
      "  return f(**kwargs)\n"
     ]
    },
    {
     "name": "stderr",
     "output_type": "stream",
     "text": [
      "C:\\Users\\ADMIN\\anaconda3\\lib\\site-packages\\sklearn\\utils\\validation.py:73: DataConversionWarning: A column-vector y was passed when a 1d array was expected. Please change the shape of y to (n_samples, ), for example using ravel().\n",
      "  return f(**kwargs)\n",
      "C:\\Users\\ADMIN\\anaconda3\\lib\\site-packages\\sklearn\\utils\\validation.py:73: DataConversionWarning: A column-vector y was passed when a 1d array was expected. Please change the shape of y to (n_samples, ), for example using ravel().\n",
      "  return f(**kwargs)\n",
      "C:\\Users\\ADMIN\\anaconda3\\lib\\site-packages\\sklearn\\utils\\validation.py:73: DataConversionWarning: A column-vector y was passed when a 1d array was expected. Please change the shape of y to (n_samples, ), for example using ravel().\n",
      "  return f(**kwargs)\n",
      "C:\\Users\\ADMIN\\anaconda3\\lib\\site-packages\\sklearn\\utils\\validation.py:73: DataConversionWarning: A column-vector y was passed when a 1d array was expected. Please change the shape of y to (n_samples, ), for example using ravel().\n",
      "  return f(**kwargs)\n",
      "C:\\Users\\ADMIN\\anaconda3\\lib\\site-packages\\sklearn\\utils\\validation.py:73: DataConversionWarning: A column-vector y was passed when a 1d array was expected. Please change the shape of y to (n_samples, ), for example using ravel().\n",
      "  return f(**kwargs)\n"
     ]
    },
    {
     "name": "stdout",
     "output_type": "stream",
     "text": [
      "(614, 8)\n",
      "(614, 8)\n"
     ]
    },
    {
     "name": "stderr",
     "output_type": "stream",
     "text": [
      "C:\\Users\\ADMIN\\anaconda3\\lib\\site-packages\\sklearn\\model_selection\\_validation.py:531: DataConversionWarning: A column-vector y was passed when a 1d array was expected. Please change the shape of y to (n_samples,), for example using ravel().\n",
      "  estimator.fit(X_train, y_train, **fit_params)\n",
      "C:\\Users\\ADMIN\\anaconda3\\lib\\site-packages\\sklearn\\model_selection\\_validation.py:531: DataConversionWarning: A column-vector y was passed when a 1d array was expected. Please change the shape of y to (n_samples,), for example using ravel().\n",
      "  estimator.fit(X_train, y_train, **fit_params)\n",
      "C:\\Users\\ADMIN\\anaconda3\\lib\\site-packages\\sklearn\\model_selection\\_validation.py:531: DataConversionWarning: A column-vector y was passed when a 1d array was expected. Please change the shape of y to (n_samples,), for example using ravel().\n",
      "  estimator.fit(X_train, y_train, **fit_params)\n",
      "C:\\Users\\ADMIN\\anaconda3\\lib\\site-packages\\sklearn\\model_selection\\_validation.py:531: DataConversionWarning: A column-vector y was passed when a 1d array was expected. Please change the shape of y to (n_samples,), for example using ravel().\n",
      "  estimator.fit(X_train, y_train, **fit_params)\n",
      "C:\\Users\\ADMIN\\anaconda3\\lib\\site-packages\\sklearn\\model_selection\\_validation.py:531: DataConversionWarning: A column-vector y was passed when a 1d array was expected. Please change the shape of y to (n_samples,), for example using ravel().\n",
      "  estimator.fit(X_train, y_train, **fit_params)\n",
      "C:\\Users\\ADMIN\\anaconda3\\lib\\site-packages\\sklearn\\model_selection\\_validation.py:531: DataConversionWarning: A column-vector y was passed when a 1d array was expected. Please change the shape of y to (n_samples,), for example using ravel().\n",
      "  estimator.fit(X_train, y_train, **fit_params)\n",
      "C:\\Users\\ADMIN\\anaconda3\\lib\\site-packages\\sklearn\\model_selection\\_validation.py:531: DataConversionWarning: A column-vector y was passed when a 1d array was expected. Please change the shape of y to (n_samples,), for example using ravel().\n",
      "  estimator.fit(X_train, y_train, **fit_params)\n",
      "C:\\Users\\ADMIN\\anaconda3\\lib\\site-packages\\sklearn\\model_selection\\_validation.py:531: DataConversionWarning: A column-vector y was passed when a 1d array was expected. Please change the shape of y to (n_samples,), for example using ravel().\n",
      "  estimator.fit(X_train, y_train, **fit_params)\n",
      "C:\\Users\\ADMIN\\anaconda3\\lib\\site-packages\\sklearn\\model_selection\\_validation.py:531: DataConversionWarning: A column-vector y was passed when a 1d array was expected. Please change the shape of y to (n_samples,), for example using ravel().\n",
      "  estimator.fit(X_train, y_train, **fit_params)\n",
      "C:\\Users\\ADMIN\\anaconda3\\lib\\site-packages\\sklearn\\model_selection\\_validation.py:531: DataConversionWarning: A column-vector y was passed when a 1d array was expected. Please change the shape of y to (n_samples,), for example using ravel().\n",
      "  estimator.fit(X_train, y_train, **fit_params)\n",
      "C:\\Users\\ADMIN\\anaconda3\\lib\\site-packages\\sklearn\\model_selection\\_validation.py:531: DataConversionWarning: A column-vector y was passed when a 1d array was expected. Please change the shape of y to (n_samples,), for example using ravel().\n",
      "  estimator.fit(X_train, y_train, **fit_params)\n",
      "C:\\Users\\ADMIN\\anaconda3\\lib\\site-packages\\sklearn\\model_selection\\_validation.py:531: DataConversionWarning: A column-vector y was passed when a 1d array was expected. Please change the shape of y to (n_samples,), for example using ravel().\n",
      "  estimator.fit(X_train, y_train, **fit_params)\n",
      "C:\\Users\\ADMIN\\anaconda3\\lib\\site-packages\\sklearn\\model_selection\\_validation.py:531: DataConversionWarning: A column-vector y was passed when a 1d array was expected. Please change the shape of y to (n_samples,), for example using ravel().\n",
      "  estimator.fit(X_train, y_train, **fit_params)\n",
      "C:\\Users\\ADMIN\\anaconda3\\lib\\site-packages\\sklearn\\model_selection\\_validation.py:531: DataConversionWarning: A column-vector y was passed when a 1d array was expected. Please change the shape of y to (n_samples,), for example using ravel().\n",
      "  estimator.fit(X_train, y_train, **fit_params)\n",
      "C:\\Users\\ADMIN\\anaconda3\\lib\\site-packages\\sklearn\\model_selection\\_validation.py:531: DataConversionWarning: A column-vector y was passed when a 1d array was expected. Please change the shape of y to (n_samples,), for example using ravel().\n",
      "  estimator.fit(X_train, y_train, **fit_params)\n",
      "C:\\Users\\ADMIN\\anaconda3\\lib\\site-packages\\sklearn\\model_selection\\_validation.py:531: DataConversionWarning: A column-vector y was passed when a 1d array was expected. Please change the shape of y to (n_samples,), for example using ravel().\n",
      "  estimator.fit(X_train, y_train, **fit_params)\n",
      "C:\\Users\\ADMIN\\anaconda3\\lib\\site-packages\\sklearn\\model_selection\\_validation.py:531: DataConversionWarning: A column-vector y was passed when a 1d array was expected. Please change the shape of y to (n_samples,), for example using ravel().\n",
      "  estimator.fit(X_train, y_train, **fit_params)\n",
      "C:\\Users\\ADMIN\\anaconda3\\lib\\site-packages\\sklearn\\model_selection\\_validation.py:531: DataConversionWarning: A column-vector y was passed when a 1d array was expected. Please change the shape of y to (n_samples,), for example using ravel().\n",
      "  estimator.fit(X_train, y_train, **fit_params)\n",
      "C:\\Users\\ADMIN\\anaconda3\\lib\\site-packages\\sklearn\\model_selection\\_validation.py:531: DataConversionWarning: A column-vector y was passed when a 1d array was expected. Please change the shape of y to (n_samples,), for example using ravel().\n",
      "  estimator.fit(X_train, y_train, **fit_params)\n",
      "C:\\Users\\ADMIN\\anaconda3\\lib\\site-packages\\sklearn\\model_selection\\_validation.py:531: DataConversionWarning: A column-vector y was passed when a 1d array was expected. Please change the shape of y to (n_samples,), for example using ravel().\n",
      "  estimator.fit(X_train, y_train, **fit_params)\n",
      "C:\\Users\\ADMIN\\anaconda3\\lib\\site-packages\\sklearn\\model_selection\\_validation.py:531: DataConversionWarning: A column-vector y was passed when a 1d array was expected. Please change the shape of y to (n_samples,), for example using ravel().\n",
      "  estimator.fit(X_train, y_train, **fit_params)\n",
      "C:\\Users\\ADMIN\\anaconda3\\lib\\site-packages\\sklearn\\model_selection\\_validation.py:531: DataConversionWarning: A column-vector y was passed when a 1d array was expected. Please change the shape of y to (n_samples,), for example using ravel().\n",
      "  estimator.fit(X_train, y_train, **fit_params)\n",
      "C:\\Users\\ADMIN\\anaconda3\\lib\\site-packages\\sklearn\\model_selection\\_validation.py:531: DataConversionWarning: A column-vector y was passed when a 1d array was expected. Please change the shape of y to (n_samples,), for example using ravel().\n",
      "  estimator.fit(X_train, y_train, **fit_params)\n",
      "C:\\Users\\ADMIN\\anaconda3\\lib\\site-packages\\sklearn\\model_selection\\_validation.py:531: DataConversionWarning: A column-vector y was passed when a 1d array was expected. Please change the shape of y to (n_samples,), for example using ravel().\n",
      "  estimator.fit(X_train, y_train, **fit_params)\n",
      "C:\\Users\\ADMIN\\anaconda3\\lib\\site-packages\\sklearn\\model_selection\\_validation.py:531: DataConversionWarning: A column-vector y was passed when a 1d array was expected. Please change the shape of y to (n_samples,), for example using ravel().\n",
      "  estimator.fit(X_train, y_train, **fit_params)\n",
      "C:\\Users\\ADMIN\\anaconda3\\lib\\site-packages\\sklearn\\model_selection\\_validation.py:531: DataConversionWarning: A column-vector y was passed when a 1d array was expected. Please change the shape of y to (n_samples,), for example using ravel().\n",
      "  estimator.fit(X_train, y_train, **fit_params)\n",
      "C:\\Users\\ADMIN\\anaconda3\\lib\\site-packages\\sklearn\\model_selection\\_validation.py:531: DataConversionWarning: A column-vector y was passed when a 1d array was expected. Please change the shape of y to (n_samples,), for example using ravel().\n",
      "  estimator.fit(X_train, y_train, **fit_params)\n",
      "C:\\Users\\ADMIN\\anaconda3\\lib\\site-packages\\sklearn\\model_selection\\_validation.py:531: DataConversionWarning: A column-vector y was passed when a 1d array was expected. Please change the shape of y to (n_samples,), for example using ravel().\n",
      "  estimator.fit(X_train, y_train, **fit_params)\n",
      "C:\\Users\\ADMIN\\anaconda3\\lib\\site-packages\\sklearn\\model_selection\\_validation.py:531: DataConversionWarning: A column-vector y was passed when a 1d array was expected. Please change the shape of y to (n_samples,), for example using ravel().\n",
      "  estimator.fit(X_train, y_train, **fit_params)\n",
      "C:\\Users\\ADMIN\\anaconda3\\lib\\site-packages\\sklearn\\model_selection\\_validation.py:531: DataConversionWarning: A column-vector y was passed when a 1d array was expected. Please change the shape of y to (n_samples,), for example using ravel().\n",
      "  estimator.fit(X_train, y_train, **fit_params)\n"
     ]
    },
    {
     "name": "stderr",
     "output_type": "stream",
     "text": [
      "C:\\Users\\ADMIN\\anaconda3\\lib\\site-packages\\sklearn\\model_selection\\_validation.py:531: DataConversionWarning: A column-vector y was passed when a 1d array was expected. Please change the shape of y to (n_samples,), for example using ravel().\n",
      "  estimator.fit(X_train, y_train, **fit_params)\n",
      "C:\\Users\\ADMIN\\anaconda3\\lib\\site-packages\\sklearn\\model_selection\\_validation.py:531: DataConversionWarning: A column-vector y was passed when a 1d array was expected. Please change the shape of y to (n_samples,), for example using ravel().\n",
      "  estimator.fit(X_train, y_train, **fit_params)\n",
      "C:\\Users\\ADMIN\\anaconda3\\lib\\site-packages\\sklearn\\model_selection\\_validation.py:531: DataConversionWarning: A column-vector y was passed when a 1d array was expected. Please change the shape of y to (n_samples,), for example using ravel().\n",
      "  estimator.fit(X_train, y_train, **fit_params)\n",
      "C:\\Users\\ADMIN\\anaconda3\\lib\\site-packages\\sklearn\\model_selection\\_validation.py:531: DataConversionWarning: A column-vector y was passed when a 1d array was expected. Please change the shape of y to (n_samples,), for example using ravel().\n",
      "  estimator.fit(X_train, y_train, **fit_params)\n",
      "C:\\Users\\ADMIN\\anaconda3\\lib\\site-packages\\sklearn\\model_selection\\_validation.py:531: DataConversionWarning: A column-vector y was passed when a 1d array was expected. Please change the shape of y to (n_samples,), for example using ravel().\n",
      "  estimator.fit(X_train, y_train, **fit_params)\n",
      "C:\\Users\\ADMIN\\anaconda3\\lib\\site-packages\\sklearn\\model_selection\\_validation.py:531: DataConversionWarning: A column-vector y was passed when a 1d array was expected. Please change the shape of y to (n_samples,), for example using ravel().\n",
      "  estimator.fit(X_train, y_train, **fit_params)\n",
      "C:\\Users\\ADMIN\\anaconda3\\lib\\site-packages\\sklearn\\model_selection\\_validation.py:531: DataConversionWarning: A column-vector y was passed when a 1d array was expected. Please change the shape of y to (n_samples,), for example using ravel().\n",
      "  estimator.fit(X_train, y_train, **fit_params)\n",
      "C:\\Users\\ADMIN\\anaconda3\\lib\\site-packages\\sklearn\\model_selection\\_validation.py:531: DataConversionWarning: A column-vector y was passed when a 1d array was expected. Please change the shape of y to (n_samples,), for example using ravel().\n",
      "  estimator.fit(X_train, y_train, **fit_params)\n",
      "C:\\Users\\ADMIN\\anaconda3\\lib\\site-packages\\sklearn\\model_selection\\_validation.py:531: DataConversionWarning: A column-vector y was passed when a 1d array was expected. Please change the shape of y to (n_samples,), for example using ravel().\n",
      "  estimator.fit(X_train, y_train, **fit_params)\n",
      "C:\\Users\\ADMIN\\anaconda3\\lib\\site-packages\\sklearn\\model_selection\\_validation.py:531: DataConversionWarning: A column-vector y was passed when a 1d array was expected. Please change the shape of y to (n_samples,), for example using ravel().\n",
      "  estimator.fit(X_train, y_train, **fit_params)\n"
     ]
    },
    {
     "name": "stdout",
     "output_type": "stream",
     "text": [
      "LogisticRegression()\n",
      "0.7801412768226044\n",
      "{'penalty': 'none'}\n",
      "SVC(probability=True)\n",
      "0.783433293349327\n",
      "{'kernel': 'linear'}\n",
      "DecisionTreeClassifier()\n",
      "0.7264560842329735\n",
      "{'max_depth': 3, 'min_samples_split': 2}\n",
      "RandomForestClassifier()\n",
      "0.7622550979608157\n",
      "{'max_depth': 4, 'min_samples_split': 3}\n"
     ]
    },
    {
     "name": "stderr",
     "output_type": "stream",
     "text": [
      "C:\\Users\\ADMIN\\anaconda3\\lib\\site-packages\\sklearn\\model_selection\\_search.py:765: DataConversionWarning: A column-vector y was passed when a 1d array was expected. Please change the shape of y to (n_samples,), for example using ravel().\n",
      "  self.best_estimator_.fit(X, y, **fit_params)\n"
     ]
    }
   ],
   "source": [
    "from sklearn.linear_model import LogisticRegression\n",
    "from sklearn.svm import SVC\n",
    "from sklearn.tree import DecisionTreeClassifier\n",
    "from sklearn.ensemble import RandomForestClassifier\n",
    "from sklearn.model_selection import GridSearchCV\n",
    "\n",
    "\n",
    "def fit_clasifiers(gs_clfs, X, y):\n",
    "    for clf in gs_clfs:\n",
    "        print(X.shape)\n",
    "        clf.fit(X, y)\n",
    "    \n",
    "def show_gridsearch_result(gs_clfs):\n",
    "    estimators = []\n",
    "    scores = []\n",
    "    params = []\n",
    "    for clf in gs_clfs:\n",
    "        estimators.append(str(clf.estimator))\n",
    "        scores.append(clf.best_score_)\n",
    "        params.append(clf.best_params_)\n",
    "\n",
    "\n",
    "    for i, val in enumerate(estimators):\n",
    "        print(val)\n",
    "        print(scores[i])\n",
    "        print(params[i])\n",
    "\n",
    "        \n",
    "        \n",
    "X_train, X_test, y_train, y_test = train_test_split(X_scaled, y, test_size=0.2)\n",
    "\n",
    "lr = LogisticRegression()\n",
    "svc = SVC(probability=True)\n",
    "dt = DecisionTreeClassifier()\n",
    "rf = RandomForestClassifier()\n",
    "\n",
    "param_lr = {\"penalty\":[\"l1\", \"l2\", \"elasticnet\", \"none\"]}\n",
    "param_svc = {\"kernel\":[\"linear\", \"poly\", \"rbf\", \"sigmoid\"]}\n",
    "param_tree = {\n",
    "    \"max_depth\" : [3, 4, 5, 6],\n",
    "    \"min_samples_split\" : [2, 3]\n",
    "}\n",
    "\n",
    "gs_lr = GridSearchCV(lr, param_grid=param_lr, cv=5, refit=True)\n",
    "gs_svc = GridSearchCV(svc, param_grid=param_svc, cv=5, refit=True)\n",
    "gs_dt = GridSearchCV(dt, param_grid=param_tree, cv=5, refit=True)\n",
    "gs_rf = GridSearchCV(rf, param_grid=param_tree, cv=5, refit=True)\n",
    "\n",
    "gs_clfs = [gs_lr, gs_svc, gs_dt, gs_rf]\n",
    "fit_clasifiers(gs_clfs, X_train, y_train)\n",
    "show_gridsearch_result(gs_clfs)\n",
    "\n",
    "\n"
   ]
  },
  {
   "cell_type": "markdown",
   "metadata": {},
   "source": [
    "### metrics of best estimator(Logistic Regression)"
   ]
  },
  {
   "cell_type": "code",
   "execution_count": 17,
   "metadata": {},
   "outputs": [
    {
     "name": "stdout",
     "output_type": "stream",
     "text": [
      "[[75 16]\n",
      " [25 38]]\n",
      "Acc : 0.7337662337662337\n",
      "precision : 0.7037037037037037\n",
      "recall : 0.6031746031746031\n",
      "th val : [0.06921789 0.07065762 0.07080018 0.07094987]\n",
      "precision val : [0.45323741 0.44927536 0.45255474 0.45588235]\n",
      "recalls val : [1.         0.98412698 0.98412698 0.98412698]\n"
     ]
    },
    {
     "data": {
      "image/png": "[encoded data removed]",
      "text/plain": [
       "<Figure size 432x288 with 1 Axes>"
      ]
     },
     "metadata": {
      "needs_background": "light"
     },
     "output_type": "display_data"
    }
   ],
   "source": [
    "from sklearn.metrics import accuracy_score, confusion_matrix, roc_auc_score\n",
    "from sklearn.metrics import recall_score, precision_score,roc_curve\n",
    "from sklearn.metrics import precision_recall_curve\n",
    "\n",
    "def show_metrics(y_test, y_pred):\n",
    "    confusion = confusion_matrix(y_test, y_pred)\n",
    "    accuracy = accuracy_score(y_test, y_pred)\n",
    "    precision = precision_score(y_test, y_pred)\n",
    "    recall = recall_score(y_test, y_pred)\n",
    "    print(confusion)\n",
    "    print(\"Acc : {}\".format(accuracy))\n",
    "    print(\"precision : {}\".format(precision))\n",
    "    print(\"recall : {}\".format(recall))\n",
    "\n",
    "def show_precision_recall_curve(y_test,prob_positive_pred):\n",
    "    precisions, recalls, thresholds = precision_recall_curve(y_test, prob_positive_pred)\n",
    "    print(\"th val : {}\".format(thresholds[:4]))\n",
    "    print(\"precision val : {}\".format(precisions[:4]))\n",
    "    print(\"recalls val : {}\".format(recalls[:4]))\n",
    "\n",
    "    df = {\n",
    "        \"thresholds\":thresholds, \n",
    "          \"precisions\":precisions[:-1], \n",
    "          \"recalls\":recalls[:-1]\n",
    "    }\n",
    "    df = pd.DataFrame.from_dict(df)\n",
    "\n",
    "    sns.lineplot(x=\"thresholds\", y=\"precisions\", data=df)\n",
    "    sns.lineplot(x=\"thresholds\", y=\"recalls\", data=df)\n",
    "\n",
    "    \n",
    "\n",
    "\n",
    "y_pred = gs_lr.predict(X_test)\n",
    "pred_prob = gs_lr.predict_proba(X_test)\n",
    "show_metrics(y_test, y_pred)\n",
    "y_pred = np.concatenate([pred_prob, y_pred.reshape(-1, 1)], axis=1)\n",
    "prob_positive_pred = y_pred[:, 1]\n",
    "\n",
    "show_precision_recall_curve(y_test,prob_positive_pred)"
   ]
  },
  {
   "cell_type": "code",
   "execution_count": 18,
   "metadata": {},
   "outputs": [
    {
     "name": "stdout",
     "output_type": "stream",
     "text": [
      "fpr val : [0.         0.         0.         0.01098901]\n",
      "tpr val : [0.         0.01587302 0.3015873  0.3015873 ]\n",
      "thresholds val : [1.97155331 0.97155331 0.755357   0.74914391]\n",
      "0.8337694051979766\n"
     ]
    },
    {
     "data": {
      "image/png": "[encoded data removed]",
      "text/plain": [
       "<Figure size 432x288 with 1 Axes>"
      ]
     },
     "metadata": {
      "needs_background": "light"
     },
     "output_type": "display_data"
    }
   ],
   "source": [
    "def show_roc_curve(y_test,prob_positive_pred):\n",
    "    fpr, tpr, thresholds = roc_curve(y_test,prob_positive_pred)\n",
    "\n",
    "    print(\"fpr val : {}\".format(fpr[:4]))\n",
    "    print(\"tpr val : {}\".format(tpr[:4]))\n",
    "    print(\"thresholds val : {}\".format(thresholds[:4]))\n",
    "\n",
    "    df = {\"threshold\":thresholds, \"fpr\":fpr, \"tpr\":tpr}\n",
    "    df = pd.DataFrame.from_dict(df)\n",
    "    sns.lineplot(x=\"fpr\", y=\"tpr\", data=df)\n",
    "\n",
    "    roc_score = roc_auc_score(y_test, prob_positive_pred)\n",
    "    print(roc_score)\n",
    "\n",
    "show_roc_curve(y_test,prob_positive_pred)"
   ]
  },
  {
   "cell_type": "markdown",
   "metadata": {},
   "source": [
    "### lower outlier processing"
   ]
  },
  {
   "cell_type": "code",
   "execution_count": 19,
   "metadata": {},
   "outputs": [
    {
     "name": "stdout",
     "output_type": "stream",
     "text": [
      "(768, 9)\n",
      "Pregnancies. mean : 3.845, num of outlier : 0\n",
      "   -> cnt of zero : 111\n",
      "\n",
      "Glucose. mean : 120.895, num of outlier : 0\n",
      "   -> cnt of zero : 5\n",
      "\n",
      "BloodPressure. mean : 69.105, num of outlier : 0\n",
      "   -> cnt of zero : 35\n",
      "\n",
      "SkinThickness. mean : 20.536, num of outlier : 0\n",
      "   -> cnt of zero : 227\n",
      "\n",
      "Insulin. mean : 79.799, num of outlier : 0\n",
      "   -> cnt of zero : 374\n",
      "\n",
      "BMI. mean : 31.993, num of outlier : 0\n",
      "   -> cnt of zero : 11\n",
      "\n",
      "DiabetesPedigreeFunction. mean : 0.472, num of outlier : 0\n",
      "   -> cnt of zero : 0\n",
      "\n",
      "Age. mean : 33.241, num of outlier : 0\n",
      "   -> cnt of zero : 0\n",
      "\n",
      "Outcome. mean : 0.349, num of outlier : 0\n",
      "   -> cnt of zero : 500\n",
      "\n"
     ]
    }
   ],
   "source": [
    "def show_lower_outlier(df, stdev=3, show_total=False):\n",
    "\n",
    "    # lower bound outliers\n",
    "    cols = df.columns\n",
    "    print(df.shape)\n",
    "    for col in cols:\n",
    "        #std\n",
    "        mean = df[col].mean()\n",
    "        std = df[col].std()\n",
    "        threshold = mean - stdev * std\n",
    "        n_outlier = np.sum((df[col] < threshold) & (df[col] > 0))\n",
    "        print(col + \". mean : \"+str(round(mean,3))+\", num of outlier : \"+str(n_outlier))\n",
    "        if (show_total == True) & (n_outlier != 0):\n",
    "            print(df.loc[(df[col] < threshold) & (df[col] > 0),col][:5])\n",
    "        \n",
    "        print(\"   -> cnt of zero : \" + str(np.sum(df[col] == 0))+\"\\n\")\n",
    "\n",
    "show_lower_outlier(df,show_total=True)"
   ]
  },
  {
   "cell_type": "code",
   "execution_count": 20,
   "metadata": {
    "scrolled": true
   },
   "outputs": [],
   "source": [
    "def lower_outlier_transform(df, stdev=3):\n",
    "    cols = df.columns\n",
    "\n",
    "    for col in cols:\n",
    "        mean = df[col].mean()\n",
    "        std = df[col].std()\n",
    "        threshold = mean - stdev * std\n",
    "        df.loc[(df[col] < threshold) & (df[col] > 0), col] = mean\n",
    "    return df\n",
    "    \n",
    "df = lower_outlier_transform(df)"
   ]
  },
  {
   "cell_type": "code",
   "execution_count": 21,
   "metadata": {},
   "outputs": [
    {
     "name": "stdout",
     "output_type": "stream",
     "text": [
      "(768, 9)\n",
      "Pregnancies. mean : 3.845, num of outlier : 0\n",
      "   -> cnt of zero : 111\n",
      "\n",
      "Glucose. mean : 120.895, num of outlier : 0\n",
      "   -> cnt of zero : 5\n",
      "\n",
      "BloodPressure. mean : 72.255, num of outlier : 3\n",
      "18     30.0\n",
      "125    30.0\n",
      "597    24.0\n",
      "Name: BloodPressure, dtype: float64\n",
      "   -> cnt of zero : 0\n",
      "\n",
      "SkinThickness. mean : 26.606, num of outlier : 0\n",
      "   -> cnt of zero : 0\n",
      "\n",
      "Insulin. mean : 118.66, num of outlier : 0\n",
      "   -> cnt of zero : 0\n",
      "\n",
      "BMI. mean : 31.993, num of outlier : 0\n",
      "   -> cnt of zero : 11\n",
      "\n",
      "DiabetesPedigreeFunction. mean : 0.472, num of outlier : 0\n",
      "   -> cnt of zero : 0\n",
      "\n",
      "Age. mean : 33.241, num of outlier : 0\n",
      "   -> cnt of zero : 0\n",
      "\n",
      "Outcome. mean : 0.349, num of outlier : 0\n",
      "   -> cnt of zero : 500\n",
      "\n"
     ]
    },
    {
     "data": {
      "text/plain": [
       "Pregnancies                 0\n",
       "Glucose                     0\n",
       "BloodPressure               0\n",
       "SkinThickness               0\n",
       "Insulin                     0\n",
       "BMI                         0\n",
       "DiabetesPedigreeFunction    0\n",
       "Age                         0\n",
       "Outcome                     0\n",
       "dtype: int64"
      ]
     },
     "execution_count": 21,
     "metadata": {},
     "output_type": "execute_result"
    }
   ],
   "source": [
    "df.loc[ df.loc[:, \"Insulin\"] == 0 , \"Insulin\"] = df[\"Insulin\"].mean()\n",
    "df.loc[ df.loc[:, \"SkinThickness\"] == 0 , \"SkinThickness\"] = df[\"SkinThickness\"].mean()\n",
    "df.loc[ df.loc[:, \"BloodPressure\"] == 0 , \"BloodPressure\"] = df[\"BloodPressure\"].mean()\n",
    "\n",
    "show_lower_outlier(df,show_total=True)\n",
    "df.isna().sum()"
   ]
  },
  {
   "cell_type": "code",
   "execution_count": 22,
   "metadata": {},
   "outputs": [
    {
     "name": "stdout",
     "output_type": "stream",
     "text": [
      "before drop: (768, 9)\n",
      "(752, 9)\n",
      "Pregnancies. mean : 3.851, num of outlier : 0\n",
      "   -> cnt of zero : 108\n",
      "\n",
      "Glucose. mean : 121.941, num of outlier : 0\n",
      "   -> cnt of zero : 0\n",
      "\n",
      "BloodPressure. mean : 72.278, num of outlier : 3\n",
      "18     30.0\n",
      "125    30.0\n",
      "597    24.0\n",
      "Name: BloodPressure, dtype: float64\n",
      "   -> cnt of zero : 0\n",
      "\n",
      "SkinThickness. mean : 26.669, num of outlier : 0\n",
      "   -> cnt of zero : 0\n",
      "\n",
      "Insulin. mean : 119.55, num of outlier : 0\n",
      "   -> cnt of zero : 0\n",
      "\n",
      "BMI. mean : 32.455, num of outlier : 0\n",
      "   -> cnt of zero : 0\n",
      "\n",
      "DiabetesPedigreeFunction. mean : 0.473, num of outlier : 0\n",
      "   -> cnt of zero : 0\n",
      "\n",
      "Age. mean : 33.312, num of outlier : 0\n",
      "   -> cnt of zero : 0\n",
      "\n",
      "Outcome. mean : 0.351, num of outlier : 0\n",
      "   -> cnt of zero : 488\n",
      "\n"
     ]
    },
    {
     "name": "stderr",
     "output_type": "stream",
     "text": [
      "<ipython-input-22-026df600378e>:4: SettingWithCopyWarning: \n",
      "A value is trying to be set on a copy of a slice from a DataFrame.\n",
      "Try using .loc[row_indexer,col_indexer] = value instead\n",
      "\n",
      "See the caveats in the documentation: https://pandas.pydata.org/pandas-docs/stable/user_guide/indexing.html#returning-a-view-versus-a-copy\n",
      "  dfi[dfi[:] == 0] = np.NaN\n",
      "C:\\Users\\ADMIN\\anaconda3\\lib\\site-packages\\pandas\\core\\frame.py:2986: SettingWithCopyWarning: \n",
      "A value is trying to be set on a copy of a slice from a DataFrame\n",
      "\n",
      "See the caveats in the documentation: https://pandas.pydata.org/pandas-docs/stable/user_guide/indexing.html#returning-a-view-versus-a-copy\n",
      "  self._where(-key, value, inplace=True)\n"
     ]
    }
   ],
   "source": [
    "print(\"before drop: \"+ str(df.shape))\n",
    "\n",
    "dfi = df.loc[:, (df.columns != \"Outcome\") & (df.columns != \"Pregnancies\")]\n",
    "dfi[dfi[:] == 0] = np.NaN\n",
    "df.iloc[:,1:-1] = dfi\n",
    "df = df.dropna()\n",
    "\n",
    "show_lower_outlier(df,show_total=True)"
   ]
  },
  {
   "cell_type": "code",
   "execution_count": 23,
   "metadata": {},
   "outputs": [
    {
     "name": "stdout",
     "output_type": "stream",
     "text": [
      "[[80 11]\n",
      " [26 34]]\n",
      "Acc : 0.7549668874172185\n",
      "precision : 0.7555555555555555\n",
      "recall : 0.5666666666666667\n",
      "th val : [0.09146326 0.09286755 0.0935997  0.09376494]\n",
      "precision val : [0.48387097 0.4796748  0.48360656 0.48760331]\n",
      "recalls val : [1.         0.98333333 0.98333333 0.98333333]\n"
     ]
    },
    {
     "name": "stderr",
     "output_type": "stream",
     "text": [
      "C:\\Users\\ADMIN\\anaconda3\\lib\\site-packages\\sklearn\\utils\\validation.py:73: DataConversionWarning: A column-vector y was passed when a 1d array was expected. Please change the shape of y to (n_samples, ), for example using ravel().\n",
      "  return f(**kwargs)\n"
     ]
    },
    {
     "data": {
      "image/png": "[encoded data removed]",
      "text/plain": [
       "<Figure size 432x288 with 1 Axes>"
      ]
     },
     "metadata": {
      "needs_background": "light"
     },
     "output_type": "display_data"
    }
   ],
   "source": [
    "X, y, X_scaled = df_transform(df)\n",
    "X_train, X_test, y_train, y_test = train_test_split(X_scaled, y, test_size=0.2)\n",
    "\n",
    "lr = LogisticRegression()\n",
    "lr.fit(X_train, y_train)\n",
    "y_pred = lr.predict(X_test)\n",
    "pred_prob = lr.predict_proba(X_test)\n",
    "show_metrics(y_test, y_pred)\n",
    "\n",
    "\n",
    "y_pred = np.concatenate([pred_prob, y_pred.reshape(-1, 1)], axis=1)\n",
    "prob_positive_pred = y_pred[:, 1]\n",
    "show_precision_recall_curve(y_test,prob_positive_pred)"
   ]
  },
  {
   "cell_type": "code",
   "execution_count": 24,
   "metadata": {},
   "outputs": [
    {
     "name": "stdout",
     "output_type": "stream",
     "text": [
      "fpr val : [0.         0.         0.         0.01098901]\n",
      "tpr val : [0.         0.01666667 0.11666667 0.11666667]\n",
      "thresholds val : [1.9927823  0.9927823  0.90757854 0.90612896]\n",
      "0.8432234432234432\n"
     ]
    },
    {
     "data": {
      "image/png": "[encoded data removed]",
      "text/plain": [
       "<Figure size 432x288 with 1 Axes>"
      ]
     },
     "metadata": {
      "needs_background": "light"
     },
     "output_type": "display_data"
    }
   ],
   "source": [
    "show_roc_curve(y_test,prob_positive_pred)"
   ]
  },
  {
   "cell_type": "markdown",
   "metadata": {},
   "source": [
    "### find cross point of recall and precision"
   ]
  },
  {
   "cell_type": "code",
   "execution_count": 25,
   "metadata": {},
   "outputs": [
    {
     "name": "stdout",
     "output_type": "stream",
     "text": [
      "idx : [64 65 66], threshold val : [0.36999791 0.37458178 0.40572082]\n"
     ]
    }
   ],
   "source": [
    "precisions, recalls, thresholds = precision_recall_curve(y_test, prob_positive_pred)\n",
    "\n",
    "cp_idx = np.where(recalls == recalls[precisions==recalls])[0]\n",
    "threshold = thresholds[cp_idx]\n",
    "print(\"idx : \"+str(cp_idx) +\", threshold val : \"+str(threshold))"
   ]
  },
  {
   "cell_type": "code",
   "execution_count": 26,
   "metadata": {},
   "outputs": [
    {
     "data": {
      "text/plain": [
       "array([[0.],\n",
       "       [0.],\n",
       "       [0.],\n",
       "       [0.],\n",
       "       [0.],\n",
       "       [1.],\n",
       "       [0.],\n",
       "       [0.],\n",
       "       [0.],\n",
       "       [0.],\n",
       "       [1.],\n",
       "       [0.],\n",
       "       [0.],\n",
       "       [0.],\n",
       "       [0.],\n",
       "       [0.],\n",
       "       [1.],\n",
       "       [0.],\n",
       "       [0.],\n",
       "       [1.],\n",
       "       [0.],\n",
       "       [0.],\n",
       "       [0.],\n",
       "       [0.],\n",
       "       [0.],\n",
       "       [0.],\n",
       "       [0.],\n",
       "       [0.],\n",
       "       [0.],\n",
       "       [0.],\n",
       "       [0.],\n",
       "       [0.],\n",
       "       [1.],\n",
       "       [0.],\n",
       "       [1.],\n",
       "       [1.],\n",
       "       [1.],\n",
       "       [1.],\n",
       "       [1.],\n",
       "       [0.],\n",
       "       [0.],\n",
       "       [1.],\n",
       "       [0.],\n",
       "       [1.],\n",
       "       [1.],\n",
       "       [1.],\n",
       "       [0.],\n",
       "       [1.],\n",
       "       [0.],\n",
       "       [0.],\n",
       "       [0.],\n",
       "       [1.],\n",
       "       [1.],\n",
       "       [1.],\n",
       "       [1.],\n",
       "       [0.],\n",
       "       [0.],\n",
       "       [0.],\n",
       "       [1.],\n",
       "       [0.],\n",
       "       [1.],\n",
       "       [0.],\n",
       "       [1.],\n",
       "       [1.],\n",
       "       [1.],\n",
       "       [0.],\n",
       "       [0.],\n",
       "       [0.],\n",
       "       [0.],\n",
       "       [0.],\n",
       "       [0.],\n",
       "       [1.],\n",
       "       [0.],\n",
       "       [0.],\n",
       "       [1.],\n",
       "       [1.],\n",
       "       [0.],\n",
       "       [0.],\n",
       "       [0.],\n",
       "       [0.],\n",
       "       [0.],\n",
       "       [1.],\n",
       "       [0.],\n",
       "       [0.],\n",
       "       [1.],\n",
       "       [0.],\n",
       "       [1.],\n",
       "       [1.],\n",
       "       [1.],\n",
       "       [0.],\n",
       "       [1.],\n",
       "       [0.],\n",
       "       [0.],\n",
       "       [1.],\n",
       "       [0.],\n",
       "       [1.],\n",
       "       [0.],\n",
       "       [1.],\n",
       "       [1.],\n",
       "       [1.],\n",
       "       [0.],\n",
       "       [1.],\n",
       "       [0.],\n",
       "       [1.],\n",
       "       [0.],\n",
       "       [1.],\n",
       "       [0.],\n",
       "       [1.],\n",
       "       [0.],\n",
       "       [1.],\n",
       "       [0.],\n",
       "       [0.],\n",
       "       [1.],\n",
       "       [1.],\n",
       "       [0.],\n",
       "       [0.],\n",
       "       [0.],\n",
       "       [0.],\n",
       "       [1.],\n",
       "       [1.],\n",
       "       [0.],\n",
       "       [0.],\n",
       "       [0.],\n",
       "       [0.],\n",
       "       [0.],\n",
       "       [0.],\n",
       "       [0.],\n",
       "       [0.],\n",
       "       [0.],\n",
       "       [1.],\n",
       "       [1.],\n",
       "       [0.],\n",
       "       [1.],\n",
       "       [0.],\n",
       "       [1.],\n",
       "       [1.],\n",
       "       [0.],\n",
       "       [1.],\n",
       "       [1.],\n",
       "       [0.],\n",
       "       [0.],\n",
       "       [0.],\n",
       "       [1.],\n",
       "       [1.],\n",
       "       [0.],\n",
       "       [1.],\n",
       "       [1.],\n",
       "       [0.],\n",
       "       [1.],\n",
       "       [0.],\n",
       "       [0.]])"
      ]
     },
     "execution_count": 26,
     "metadata": {},
     "output_type": "execute_result"
    }
   ],
   "source": [
    "from sklearn.preprocessing import Binarizer\n",
    "\n",
    "binarizier = Binarizer(threshold=0.37)\n",
    "y_pred_bin = binarizier.fit_transform(pred_prob[:, 1].reshape(-1, 1))\n",
    "\n",
    "y_pred_bin"
   ]
  },
  {
   "cell_type": "code",
   "execution_count": 27,
   "metadata": {},
   "outputs": [
    {
     "data": {
      "text/plain": [
       "array([[0.69177776, 0.30822224],\n",
       "       [0.91366621, 0.08633379],\n",
       "       [0.89799123, 0.10200877],\n",
       "       [0.85359406, 0.14640594],\n",
       "       [0.96812799, 0.03187201],\n",
       "       [0.62541822, 0.37458178],\n",
       "       [0.6941125 , 0.3058875 ],\n",
       "       [0.80230946, 0.19769054],\n",
       "       [0.70024803, 0.29975197],\n",
       "       [0.96246251, 0.03753749],\n",
       "       [0.27847618, 0.72152382],\n",
       "       [0.84521127, 0.15478873],\n",
       "       [0.96331853, 0.03668147],\n",
       "       [0.88094212, 0.11905788],\n",
       "       [0.85819049, 0.14180951],\n",
       "       [0.85041132, 0.14958868],\n",
       "       [0.13347346, 0.86652654],\n",
       "       [0.94330629, 0.05669371],\n",
       "       [0.71836667, 0.28163333],\n",
       "       [0.59409113, 0.40590887],\n",
       "       [0.74007902, 0.25992098],\n",
       "       [0.69551254, 0.30448746],\n",
       "       [0.86615074, 0.13384926],\n",
       "       [0.66616151, 0.33383849],\n",
       "       [0.78126514, 0.21873486],\n",
       "       [0.90216301, 0.09783699],\n",
       "       [0.66694953, 0.33305047],\n",
       "       [0.93839368, 0.06160632],\n",
       "       [0.70081701, 0.29918299],\n",
       "       [0.79665349, 0.20334651],\n",
       "       [0.90713245, 0.09286755],\n",
       "       [0.90932786, 0.09067214],\n",
       "       [0.26400389, 0.73599611],\n",
       "       [0.69902987, 0.30097013],\n",
       "       [0.31526716, 0.68473284],\n",
       "       [0.57413831, 0.42586169],\n",
       "       [0.58445465, 0.41554535],\n",
       "       [0.2718543 , 0.7281457 ],\n",
       "       [0.33201047, 0.66798953],\n",
       "       [0.92664854, 0.07335146],\n",
       "       [0.92725521, 0.07274479],\n",
       "       [0.09387104, 0.90612896],\n",
       "       [0.97237825, 0.02762175],\n",
       "       [0.2220835 , 0.7779165 ],\n",
       "       [0.2196932 , 0.7803068 ],\n",
       "       [0.16213936, 0.83786064],\n",
       "       [0.8406705 , 0.1593295 ],\n",
       "       [0.3765215 , 0.6234785 ],\n",
       "       [0.7291608 , 0.2708392 ],\n",
       "       [0.69969631, 0.30030369],\n",
       "       [0.91840132, 0.08159868],\n",
       "       [0.17088171, 0.82911829],\n",
       "       [0.23611352, 0.76388648],\n",
       "       [0.47858913, 0.52141087],\n",
       "       [0.25143422, 0.74856578],\n",
       "       [0.67897125, 0.32102875],\n",
       "       [0.96772742, 0.03227258],\n",
       "       [0.68433652, 0.31566348],\n",
       "       [0.22648223, 0.77351777],\n",
       "       [0.92899473, 0.07100527],\n",
       "       [0.02843512, 0.97156488],\n",
       "       [0.69345978, 0.30654022],\n",
       "       [0.56187142, 0.43812858],\n",
       "       [0.26920796, 0.73079204],\n",
       "       [0.34223329, 0.65776671],\n",
       "       [0.68395406, 0.31604594],\n",
       "       [0.63000209, 0.36999791],\n",
       "       [0.7273465 , 0.2726535 ],\n",
       "       [0.87594437, 0.12405563],\n",
       "       [0.95756997, 0.04243003],\n",
       "       [0.74166211, 0.25833789],\n",
       "       [0.502332  , 0.497668  ],\n",
       "       [0.94564751, 0.05435249],\n",
       "       [0.8978323 , 0.1021677 ],\n",
       "       [0.26751537, 0.73248463],\n",
       "       [0.0072177 , 0.9927823 ],\n",
       "       [0.94018303, 0.05981697],\n",
       "       [0.9275602 , 0.0724398 ],\n",
       "       [0.68474525, 0.31525475],\n",
       "       [0.66303744, 0.33696256],\n",
       "       [0.81538446, 0.18461554],\n",
       "       [0.29291328, 0.70708672],\n",
       "       [0.73468924, 0.26531076],\n",
       "       [0.74387292, 0.25612708],\n",
       "       [0.18925054, 0.81074946],\n",
       "       [0.76565007, 0.23434993],\n",
       "       [0.23644943, 0.76355057],\n",
       "       [0.17403914, 0.82596086],\n",
       "       [0.33468679, 0.66531321],\n",
       "       [0.87893801, 0.12106199],\n",
       "       [0.59427918, 0.40572082],\n",
       "       [0.96457443, 0.03542557],\n",
       "       [0.69129543, 0.30870457],\n",
       "       [0.26440504, 0.73559496],\n",
       "       [0.74450915, 0.25549085],\n",
       "       [0.09242146, 0.90757854],\n",
       "       [0.80129345, 0.19870655],\n",
       "       [0.48530693, 0.51469307],\n",
       "       [0.27230949, 0.72769051],\n",
       "       [0.20491443, 0.79508557],\n",
       "       [0.73766976, 0.26233024],\n",
       "       [0.10845422, 0.89154578],\n",
       "       [0.89599624, 0.10400376],\n",
       "       [0.3983972 , 0.6016028 ],\n",
       "       [0.8637553 , 0.1362447 ],\n",
       "       [0.52281342, 0.47718658],\n",
       "       [0.94514094, 0.05485906],\n",
       "       [0.1369933 , 0.8630067 ],\n",
       "       [0.97947503, 0.02052497],\n",
       "       [0.5739817 , 0.4260183 ],\n",
       "       [0.83556049, 0.16443951],\n",
       "       [0.81515686, 0.18484314],\n",
       "       [0.44615548, 0.55384452],\n",
       "       [0.55772861, 0.44227139],\n",
       "       [0.93417384, 0.06582616],\n",
       "       [0.77769028, 0.22230972],\n",
       "       [0.89167415, 0.10832585],\n",
       "       [0.98630088, 0.01369912],\n",
       "       [0.08519624, 0.91480376],\n",
       "       [0.25990435, 0.74009565],\n",
       "       [0.69087393, 0.30912607],\n",
       "       [0.90853674, 0.09146326],\n",
       "       [0.80809489, 0.19190511],\n",
       "       [0.91980261, 0.08019739],\n",
       "       [0.76167204, 0.23832796],\n",
       "       [0.9064003 , 0.0935997 ],\n",
       "       [0.82358213, 0.17641787],\n",
       "       [0.76923812, 0.23076188],\n",
       "       [0.94127081, 0.05872919],\n",
       "       [0.56477592, 0.43522408],\n",
       "       [0.21574338, 0.78425662],\n",
       "       [0.75511122, 0.24488878],\n",
       "       [0.3169871 , 0.6830129 ],\n",
       "       [0.86469075, 0.13530925],\n",
       "       [0.05733898, 0.94266102],\n",
       "       [0.52284365, 0.47715635],\n",
       "       [0.93153907, 0.06846093],\n",
       "       [0.57773886, 0.42226114],\n",
       "       [0.24432979, 0.75567021],\n",
       "       [0.90623506, 0.09376494],\n",
       "       [0.77203103, 0.22796897],\n",
       "       [0.72252416, 0.27747584],\n",
       "       [0.25881867, 0.74118133],\n",
       "       [0.52599333, 0.47400667],\n",
       "       [0.83920318, 0.16079682],\n",
       "       [0.04394248, 0.95605752],\n",
       "       [0.03063697, 0.96936303],\n",
       "       [0.87478457, 0.12521543],\n",
       "       [0.31328087, 0.68671913],\n",
       "       [0.91422786, 0.08577214],\n",
       "       [0.98763658, 0.01236342]])"
      ]
     },
     "execution_count": 27,
     "metadata": {},
     "output_type": "execute_result"
    }
   ],
   "source": [
    "y_pred = lr.predict(X_test)\n",
    "pred_prob = lr.predict_proba(X_test)\n",
    "pred_prob"
   ]
  },
  {
   "cell_type": "code",
   "execution_count": 28,
   "metadata": {},
   "outputs": [
    {
     "name": "stdout",
     "output_type": "stream",
     "text": [
      "[[80 11]\n",
      " [26 34]]\n",
      "Acc : 0.7549668874172185\n",
      "precision : 0.7555555555555555\n",
      "recall : 0.5666666666666667\n",
      "[[71 20]\n",
      " [21 39]]\n",
      "Acc : 0.7284768211920529\n",
      "precision : 0.6610169491525424\n",
      "recall : 0.65\n"
     ]
    }
   ],
   "source": [
    "show_metrics(y_test, y_pred)\n",
    "\n",
    "show_metrics(y_test, y_pred_bin)"
   ]
  },
  {
   "cell_type": "code",
   "execution_count": null,
   "metadata": {},
   "outputs": [],
   "source": []
  }
 ],
 "metadata": {
  "kernelspec": {
   "display_name": "Python 3",
   "language": "python",
   "name": "python3"
  },
  "language_info": {
   "codemirror_mode": {
    "name": "ipython",
    "version": 3
   },
   "file_extension": ".py",
   "mimetype": "text/x-python",
   "name": "python",
   "nbconvert_exporter": "python",
   "pygments_lexer": "ipython3",
   "version": "3.7.1"
  }
 },
 "nbformat": 4,
 "nbformat_minor": 4
}
