{
 "cells": [
  {
   "cell_type": "code",
   "execution_count": 2,
   "metadata": {},
   "outputs": [
    {
     "data": {
      "text/plain": [
       "<matplotlib.collections.PathCollection at 0x2189be899b0>"
      ]
     },
     "execution_count": 2,
     "metadata": {},
     "output_type": "execute_result"
    },
    {
     "data": {
      "image/png": "[encoded data removed]",
      "text/plain": [
       "<Figure size 432x288 with 1 Axes>"
      ]
     },
     "metadata": {
      "needs_background": "light"
     },
     "output_type": "display_data"
    }
   ],
   "source": [
    "import numpy as np\n",
    "import matplotlib.pyplot as plt\n",
    "\n",
    "# y = w0 + w1 * x 단순 선형 회귀 식 \n",
    "# y = 4x + 6(w0 = 6, w1= 4)에 대한 선형 근사를 위해 값 준비\n",
    "x = 2 * np.random.rand(100, 1) # 0 ~ 2까지 100개 임의의 점\n",
    "y = 6 + 4 * x + np.random.randn(100, 1) # 4x + 6 + 정규 분포를 따르는 노이즈\n",
    "\n",
    "plt.scatter(x, y)"
   ]
  },
  {
   "cell_type": "code",
   "execution_count": 3,
   "metadata": {},
   "outputs": [],
   "source": [
    "def get_weight_update(w1, w0, x, y, learning_rate=0.01):\n",
    "    # y는 길이가 100인 벡터, 길이 가져옴\n",
    "    N = len(y)\n",
    "    \n",
    "    # 계수 w0, w1 갱신 값을 계수 w0, w1 동일한 형태로 초기화\n",
    "    w1_update = np.zeros_like(w1)\n",
    "    w0_update = np.zeros_like(w0)\n",
    "    \n",
    "    # 주어진 선형 회귀 식을 통한 값 추정\n",
    "    y_pred = np.dot(x, w1.T) + w0\n",
    "    # 잔차 y - hat_y\n",
    "    diff = y - y_pred\n",
    "    \n",
    "    # (100, 1) 형태의 [[1, 1, ..., 1]] 행렬 생성, diff와 내적을 구하기 위함.\n",
    "    w0_factors = np.ones((N, 1))\n",
    "    \n",
    "    # 우측의 식은 MSE를 w1과 w0에 대해 편미분을 하여 구함.\n",
    "    # d mse/d w0 = 0 이 되게하는 w0이 mse의 최소로 함\n",
    "    # d mse/d w1 = 0 이 되게하는 w1이 mse를 최소로 함\n",
    "    # 급격한 w0, w1 변화를 방지 하기 위해 학습률 learning_rate 사용\n",
    "    \n",
    "    w1_update = -(2/N) * learning_rate * (np.dot(x.T, diff))\n",
    "    w0_update = -(2/N) * learning_rate * (np.dot(w0_factors.T, diff))\n",
    "    \n",
    "    return w1_update, w0_update"
   ]
  },
  {
   "cell_type": "code",
   "execution_count": 10,
   "metadata": {},
   "outputs": [],
   "source": [
    "def gradient_descent_steps(X, y, iters= 10000):\n",
    "    \n",
    "    w0 = np.zeros((1, 1))\n",
    "    w1 = np.zeros((1, 1))\n",
    "    \n",
    "    for idx in range(0, iters):\n",
    "\n",
    "        w1_update, w0_update = get_weight_update(w1, w0, X, y, learning_rate=0.01)\n",
    "        # 갱신 값으로 기존의 w1, w0을 조정해 나감\n",
    "        w1 = w1 - w1_update\n",
    "        w0 = w0 - w0_update\n",
    "    \n",
    "    return w1, w0\n",
    "\n",
    "def get_cost(y, y_pred):\n",
    "    N = len(y)\n",
    "    cost = np.sum(np.square(y- y_pred))/N\n",
    "    return cost\n"
   ]
  },
  {
   "cell_type": "code",
   "execution_count": 12,
   "metadata": {},
   "outputs": [
    {
     "name": "stdout",
     "output_type": "stream",
     "text": [
      "w1:4.0467, w0:4.0467\n",
      "gradient descent total cost : 0.7567\n"
     ]
    }
   ],
   "source": [
    "w1, w0 = gradient_descent_steps(x, y, iters=1000)\n",
    "print(\"w1:{0:.4f}, w0:{0:.4f}\".format(w1[0, 0], w0[0, 0]))\n",
    "y_pred = w1[0, 0] * x + w0\n",
    "print(\"gradient descent total cost : {0:.4f}\".format(get_cost(y, y_pred)))"
   ]
  },
  {
   "cell_type": "code",
   "execution_count": 17,
   "metadata": {},
   "outputs": [
    {
     "name": "stdout",
     "output_type": "stream",
     "text": [
      "w1:4.0670, w0:4.0670\n",
      "gradient descent total cost : 0.7582\n"
     ]
    }
   ],
   "source": [
    "def stochastic_gradient_descent_steps(x, y, batch_size=10, iters=1000):\n",
    "    w0 = np.zeros((1,1))\n",
    "    w1 = np.zeros((1,1))\n",
    "    prev_cost = 1000000\n",
    "    iter_idx = 0\n",
    "    \n",
    "    for idx in range(iters):\n",
    "        # x의 크기만큼 임의의 인덱스 추출\n",
    "        stochastic_random_idx = np.random.permutation(x.shape[0])\n",
    "        # 임의의 인덱스의 x, y를 배치 사이즈만큼 샘플링\n",
    "        sample_x = x[stochastic_random_idx[0:batch_size]]\n",
    "        sample_y = y[stochastic_random_idx[0:batch_size]]\n",
    "        \n",
    "        w1_update, w0_update = get_weight_update(w1, w0, sample_x, sample_y,learning_rate=0.01)\n",
    "        w1 = w1 - w1_update\n",
    "        w0 = w0 - w0_update\n",
    "    return w1, w0\n",
    "\n",
    "w1, w0 = stochastic_gradient_descent_steps(x, y, iters=1000)\n",
    "print(\"w1:{0:.4f}, w0:{0:.4f}\".format(w1[0, 0], w0[0, 0]))\n",
    "y_pred = w1[0, 0] * x + w0\n",
    "print(\"gradient descent total cost : {0:.4f}\".format(get_cost(y, y_pred)))"
   ]
  },
  {
   "cell_type": "code",
   "execution_count": null,
   "metadata": {},
   "outputs": [],
   "source": []
  }
 ],
 "metadata": {
  "kernelspec": {
   "display_name": "Python 3",
   "language": "python",
   "name": "python3"
  },
  "language_info": {
   "codemirror_mode": {
    "name": "ipython",
    "version": 3
   },
   "file_extension": ".py",
   "mimetype": "text/x-python",
   "name": "python",
   "nbconvert_exporter": "python",
   "pygments_lexer": "ipython3",
   "version": "3.7.1"
  }
 },
 "nbformat": 4,
 "nbformat_minor": 2
}
