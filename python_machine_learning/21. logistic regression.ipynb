{
 "cells": [
  {
   "cell_type": "code",
   "execution_count": 2,
   "metadata": {},
   "outputs": [],
   "source": [
    "from sklearn.linear_model import LogisticRegression\n",
    "from sklearn.datasets import load_breast_cancer\n",
    "from sklearn.preprocessing import StandardScaler\n",
    "from sklearn.model_selection import train_test_split, GridSearchCV\n",
    "from sklearn.metrics import accuracy_score, roc_auc_score\n",
    "import pandas as pd\n",
    "import numpy as np"
   ]
  },
  {
   "cell_type": "code",
   "execution_count": 6,
   "metadata": {},
   "outputs": [
    {
     "name": "stdout",
     "output_type": "stream",
     "text": [
      "acc : 0.974\n",
      "roc auc : 0.971\n"
     ]
    }
   ],
   "source": [
    "cancer = load_breast_cancer()\n",
    "df = pd.DataFrame(data=cancer.data, columns=cancer.feature_names)\n",
    "scaled_df = StandardScaler().fit_transform(df)\n",
    "\n",
    "X_train, X_test, y_train, y_test = train_test_split(scaled_df, cancer.target, test_size=0.2)\n",
    "\n",
    "lr = LogisticRegression()\n",
    "lr.fit(X_train, y_train)\n",
    "y_pred = lr.predict(X_test)\n",
    "\n",
    "print(\"acc : {0:.3f}\".format(accuracy_score(y_test, y_pred)))\n",
    "print(\"roc auc : {0:.3f}\".format(roc_auc_score(y_test, y_pred)))"
   ]
  },
  {
   "cell_type": "code",
   "execution_count": 9,
   "metadata": {},
   "outputs": [
    {
     "name": "stdout",
     "output_type": "stream",
     "text": [
      "best param : {'C': 1, 'penalty': 'l2'}\n",
      "best acc : 0.9806862288464524\n"
     ]
    }
   ],
   "source": [
    "params = {\n",
    "    \"penalty\" : [\"l2\", \"l1\"],\n",
    "    \"C\" : [0.01, 0.1, 1, 5, 10]\n",
    "}\n",
    "\n",
    "lr = LogisticRegression()\n",
    "gs = GridSearchCV(lr, param_grid=params, cv=5, n_jobs=-1, scoring=\"accuracy\")\n",
    "gs.fit(scaled_df, cancer.target)\n",
    "print(\"best param : {}\".format(gs.best_params_))\n",
    "print(\"best acc : {}\".format(gs.best_score_))"
   ]
  },
  {
   "cell_type": "code",
   "execution_count": null,
   "metadata": {},
   "outputs": [],
   "source": []
  }
 ],
 "metadata": {
  "kernelspec": {
   "display_name": "Python 3",
   "language": "python",
   "name": "python3"
  },
  "language_info": {
   "codemirror_mode": {
    "name": "ipython",
    "version": 3
   },
   "file_extension": ".py",
   "mimetype": "text/x-python",
   "name": "python",
   "nbconvert_exporter": "python",
   "pygments_lexer": "ipython3",
   "version": "3.7.1"
  }
 },
 "nbformat": 4,
 "nbformat_minor": 2
}
