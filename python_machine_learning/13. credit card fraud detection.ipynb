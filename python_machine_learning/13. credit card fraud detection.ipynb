{
 "cells": [
  {
   "cell_type": "code",
   "execution_count": 1,
   "metadata": {},
   "outputs": [
    {
     "data": {
      "text/html": [
       "<div>\n",
       "<style scoped>\n",
       "    .dataframe tbody tr th:only-of-type {\n",
       "        vertical-align: middle;\n",
       "    }\n",
       "\n",
       "    .dataframe tbody tr th {\n",
       "        vertical-align: top;\n",
       "    }\n",
       "\n",
       "    .dataframe thead th {\n",
       "        text-align: right;\n",
       "    }\n",
       "</style>\n",
       "<table border=\"1\" class=\"dataframe\">\n",
       "  <thead>\n",
       "    <tr style=\"text-align: right;\">\n",
       "      <th></th>\n",
       "      <th>Time</th>\n",
       "      <th>V1</th>\n",
       "      <th>V2</th>\n",
       "      <th>V3</th>\n",
       "      <th>V4</th>\n",
       "      <th>V5</th>\n",
       "      <th>V6</th>\n",
       "      <th>V7</th>\n",
       "      <th>V8</th>\n",
       "      <th>V9</th>\n",
       "      <th>...</th>\n",
       "      <th>V21</th>\n",
       "      <th>V22</th>\n",
       "      <th>V23</th>\n",
       "      <th>V24</th>\n",
       "      <th>V25</th>\n",
       "      <th>V26</th>\n",
       "      <th>V27</th>\n",
       "      <th>V28</th>\n",
       "      <th>Amount</th>\n",
       "      <th>Class</th>\n",
       "    </tr>\n",
       "  </thead>\n",
       "  <tbody>\n",
       "    <tr>\n",
       "      <th>0</th>\n",
       "      <td>0.0</td>\n",
       "      <td>-1.359807</td>\n",
       "      <td>-0.072781</td>\n",
       "      <td>2.536347</td>\n",
       "      <td>1.378155</td>\n",
       "      <td>-0.338321</td>\n",
       "      <td>0.462388</td>\n",
       "      <td>0.239599</td>\n",
       "      <td>0.098698</td>\n",
       "      <td>0.363787</td>\n",
       "      <td>...</td>\n",
       "      <td>-0.018307</td>\n",
       "      <td>0.277838</td>\n",
       "      <td>-0.110474</td>\n",
       "      <td>0.066928</td>\n",
       "      <td>0.128539</td>\n",
       "      <td>-0.189115</td>\n",
       "      <td>0.133558</td>\n",
       "      <td>-0.021053</td>\n",
       "      <td>149.62</td>\n",
       "      <td>0</td>\n",
       "    </tr>\n",
       "    <tr>\n",
       "      <th>1</th>\n",
       "      <td>0.0</td>\n",
       "      <td>1.191857</td>\n",
       "      <td>0.266151</td>\n",
       "      <td>0.166480</td>\n",
       "      <td>0.448154</td>\n",
       "      <td>0.060018</td>\n",
       "      <td>-0.082361</td>\n",
       "      <td>-0.078803</td>\n",
       "      <td>0.085102</td>\n",
       "      <td>-0.255425</td>\n",
       "      <td>...</td>\n",
       "      <td>-0.225775</td>\n",
       "      <td>-0.638672</td>\n",
       "      <td>0.101288</td>\n",
       "      <td>-0.339846</td>\n",
       "      <td>0.167170</td>\n",
       "      <td>0.125895</td>\n",
       "      <td>-0.008983</td>\n",
       "      <td>0.014724</td>\n",
       "      <td>2.69</td>\n",
       "      <td>0</td>\n",
       "    </tr>\n",
       "    <tr>\n",
       "      <th>2</th>\n",
       "      <td>1.0</td>\n",
       "      <td>-1.358354</td>\n",
       "      <td>-1.340163</td>\n",
       "      <td>1.773209</td>\n",
       "      <td>0.379780</td>\n",
       "      <td>-0.503198</td>\n",
       "      <td>1.800499</td>\n",
       "      <td>0.791461</td>\n",
       "      <td>0.247676</td>\n",
       "      <td>-1.514654</td>\n",
       "      <td>...</td>\n",
       "      <td>0.247998</td>\n",
       "      <td>0.771679</td>\n",
       "      <td>0.909412</td>\n",
       "      <td>-0.689281</td>\n",
       "      <td>-0.327642</td>\n",
       "      <td>-0.139097</td>\n",
       "      <td>-0.055353</td>\n",
       "      <td>-0.059752</td>\n",
       "      <td>378.66</td>\n",
       "      <td>0</td>\n",
       "    </tr>\n",
       "    <tr>\n",
       "      <th>3</th>\n",
       "      <td>1.0</td>\n",
       "      <td>-0.966272</td>\n",
       "      <td>-0.185226</td>\n",
       "      <td>1.792993</td>\n",
       "      <td>-0.863291</td>\n",
       "      <td>-0.010309</td>\n",
       "      <td>1.247203</td>\n",
       "      <td>0.237609</td>\n",
       "      <td>0.377436</td>\n",
       "      <td>-1.387024</td>\n",
       "      <td>...</td>\n",
       "      <td>-0.108300</td>\n",
       "      <td>0.005274</td>\n",
       "      <td>-0.190321</td>\n",
       "      <td>-1.175575</td>\n",
       "      <td>0.647376</td>\n",
       "      <td>-0.221929</td>\n",
       "      <td>0.062723</td>\n",
       "      <td>0.061458</td>\n",
       "      <td>123.50</td>\n",
       "      <td>0</td>\n",
       "    </tr>\n",
       "    <tr>\n",
       "      <th>4</th>\n",
       "      <td>2.0</td>\n",
       "      <td>-1.158233</td>\n",
       "      <td>0.877737</td>\n",
       "      <td>1.548718</td>\n",
       "      <td>0.403034</td>\n",
       "      <td>-0.407193</td>\n",
       "      <td>0.095921</td>\n",
       "      <td>0.592941</td>\n",
       "      <td>-0.270533</td>\n",
       "      <td>0.817739</td>\n",
       "      <td>...</td>\n",
       "      <td>-0.009431</td>\n",
       "      <td>0.798278</td>\n",
       "      <td>-0.137458</td>\n",
       "      <td>0.141267</td>\n",
       "      <td>-0.206010</td>\n",
       "      <td>0.502292</td>\n",
       "      <td>0.219422</td>\n",
       "      <td>0.215153</td>\n",
       "      <td>69.99</td>\n",
       "      <td>0</td>\n",
       "    </tr>\n",
       "  </tbody>\n",
       "</table>\n",
       "<p>5 rows × 31 columns</p>\n",
       "</div>"
      ],
      "text/plain": [
       "   Time        V1        V2        V3        V4        V5        V6        V7  \\\n",
       "0   0.0 -1.359807 -0.072781  2.536347  1.378155 -0.338321  0.462388  0.239599   \n",
       "1   0.0  1.191857  0.266151  0.166480  0.448154  0.060018 -0.082361 -0.078803   \n",
       "2   1.0 -1.358354 -1.340163  1.773209  0.379780 -0.503198  1.800499  0.791461   \n",
       "3   1.0 -0.966272 -0.185226  1.792993 -0.863291 -0.010309  1.247203  0.237609   \n",
       "4   2.0 -1.158233  0.877737  1.548718  0.403034 -0.407193  0.095921  0.592941   \n",
       "\n",
       "         V8        V9  ...         V21       V22       V23       V24  \\\n",
       "0  0.098698  0.363787  ...   -0.018307  0.277838 -0.110474  0.066928   \n",
       "1  0.085102 -0.255425  ...   -0.225775 -0.638672  0.101288 -0.339846   \n",
       "2  0.247676 -1.514654  ...    0.247998  0.771679  0.909412 -0.689281   \n",
       "3  0.377436 -1.387024  ...   -0.108300  0.005274 -0.190321 -1.175575   \n",
       "4 -0.270533  0.817739  ...   -0.009431  0.798278 -0.137458  0.141267   \n",
       "\n",
       "        V25       V26       V27       V28  Amount  Class  \n",
       "0  0.128539 -0.189115  0.133558 -0.021053  149.62      0  \n",
       "1  0.167170  0.125895 -0.008983  0.014724    2.69      0  \n",
       "2 -0.327642 -0.139097 -0.055353 -0.059752  378.66      0  \n",
       "3  0.647376 -0.221929  0.062723  0.061458  123.50      0  \n",
       "4 -0.206010  0.502292  0.219422  0.215153   69.99      0  \n",
       "\n",
       "[5 rows x 31 columns]"
      ]
     },
     "execution_count": 1,
     "metadata": {},
     "output_type": "execute_result"
    }
   ],
   "source": [
    "import numpy as np\n",
    "import pandas as pd\n",
    "import seaborn as sns\n",
    "import matplotlib.pyplot as plt\n",
    "import warnings\n",
    "warnings.filterwarnings(\"ignore\")\n",
    "\n",
    "path = \"./res/credit card fraud detection/creditcard.csv\"\n",
    "df = pd.read_csv(path)\n",
    "df.head()"
   ]
  },
  {
   "cell_type": "code",
   "execution_count": 2,
   "metadata": {},
   "outputs": [],
   "source": [
    "from sklearn.model_selection import train_test_split\n",
    "\n",
    "def get_preprocessed_df(df=None):\n",
    "    \"\"\"\n",
    "    input\n",
    "    df : before preprocessing\n",
    "\n",
    "    output\n",
    "    res : after dropping time columns\n",
    "    \"\"\"\n",
    "    res = df.copy()\n",
    "    res.drop(\"Time\", axis=1, inplace=True)\n",
    "    return res"
   ]
  },
  {
   "cell_type": "code",
   "execution_count": 3,
   "metadata": {},
   "outputs": [],
   "source": [
    "def get_train_test_datasets(df=None):\n",
    "    df_copy = get_preprocessed_df(df)\n",
    "    X_features = df_copy.iloc[:,:-1]\n",
    "    y_target= df_copy.iloc[:,-1]\n",
    "    \n",
    "    X_train, X_test, y_train, y_test = train_test_split(X_features, y_target,\n",
    "                                                       test_size=0.2,\n",
    "                                                       stratify=y_target,\n",
    "                                                       random_state=100)\n",
    "    return X_train, X_test, y_train, y_test"
   ]
  },
  {
   "cell_type": "code",
   "execution_count": 4,
   "metadata": {},
   "outputs": [],
   "source": [
    "X_train, X_test, y_train, y_test = get_train_test_datasets(df)"
   ]
  },
  {
   "cell_type": "code",
   "execution_count": 5,
   "metadata": {},
   "outputs": [],
   "source": [
    "from sklearn.linear_model import LogisticRegression\n",
    "from utils.common import show_metrics"
   ]
  },
  {
   "cell_type": "code",
   "execution_count": 6,
   "metadata": {},
   "outputs": [],
   "source": [
    "lr = LogisticRegression()\n",
    "lr.fit(X_train, y_train)\n",
    "y_pred = lr.predict(X_test)"
   ]
  },
  {
   "cell_type": "code",
   "execution_count": 7,
   "metadata": {},
   "outputs": [
    {
     "name": "stdout",
     "output_type": "stream",
     "text": [
      "[[56854    10]\n",
      " [   38    60]]\n",
      "Acc : 0.9991573329588147\n",
      "precision : 0.8571428571428571\n",
      "recall : 0.6122448979591837\n",
      "f1 score : 0.7142857142857143\n",
      "roc auc : 0.8060345198856133\n"
     ]
    }
   ],
   "source": [
    "show_metrics(y_test, y_pred)"
   ]
  },
  {
   "cell_type": "code",
   "execution_count": 8,
   "metadata": {},
   "outputs": [],
   "source": [
    "def get_model_train_eval(model, ftr_train=None, ftr_test=None,\n",
    "                        tgt_train=None, tgt_test=None):\n",
    "    model.fit(ftr_train, tgt_train)\n",
    "    y_pred = model.predict(ftr_test)\n",
    "    show_metrics(y_test, y_pred)\n",
    "    return model"
   ]
  },
  {
   "cell_type": "code",
   "execution_count": 9,
   "metadata": {},
   "outputs": [
    {
     "name": "stdout",
     "output_type": "stream",
     "text": [
      "[[56863     1]\n",
      " [   22    76]]\n",
      "Acc : 0.9995962220427653\n",
      "precision : 0.987012987012987\n",
      "recall : 0.7755102040816326\n",
      "f1 score : 0.8685714285714285\n",
      "roc auc : 0.8877463091314184\n"
     ]
    }
   ],
   "source": [
    "from lightgbm import LGBMClassifier\n",
    "\n",
    "lgbm = LGBMClassifier(n_estimators=1000, num_leaves=32,\n",
    "                       n_jobs=-1, boost_from_average=False)\n",
    "lgbm = get_model_train_eval(lgbm, ftr_train=X_train, ftr_test=X_test,\n",
    "                    tgt_train=y_train, tgt_test = y_test)"
   ]
  },
  {
   "cell_type": "code",
   "execution_count": 10,
   "metadata": {},
   "outputs": [
    {
     "data": {
      "text/plain": [
       "<matplotlib.axes._subplots.AxesSubplot at 0x252d4ad1898>"
      ]
     },
     "execution_count": 10,
     "metadata": {},
     "output_type": "execute_result"
    },
    {
     "data": {
      "image/png": "[encoded data removed]",
      "text/plain": [
       "<Figure size 432x288 with 1 Axes>"
      ]
     },
     "metadata": {
      "needs_background": "light"
     },
     "output_type": "display_data"
    }
   ],
   "source": [
    "sns.distplot(df[\"Amount\"])"
   ]
  },
  {
   "cell_type": "code",
   "execution_count": 11,
   "metadata": {},
   "outputs": [],
   "source": [
    "from sklearn.preprocessing import StandardScaler\n",
    "\n",
    "def get_preprocessed_df(df=None):\n",
    "    res = df.copy()\n",
    "    scaler = StandardScaler()\n",
    "    #res[\"Amount_Scaled\"] = scaler.fit_transform(df[\"Amount\"].values.reshape(-1,1))\n",
    "    amount_scaled = scaler.fit_transform(df[\"Amount\"].values.reshape(-1,1))\n",
    "    res.insert(0, \"Amount_Scaled\", amount_scaled)\n",
    "    res.drop([\"Time\",\"Amount\"], axis=1, inplace=True)\n",
    "    return res"
   ]
  },
  {
   "cell_type": "code",
   "execution_count": 12,
   "metadata": {},
   "outputs": [
    {
     "name": "stdout",
     "output_type": "stream",
     "text": [
      "logistic regression classification evaluation\n",
      "[[56855     9]\n",
      " [   42    56]]\n",
      "Acc : 0.9991046662687406\n",
      "precision : 0.8615384615384616\n",
      "recall : 0.5714285714285714\n",
      "f1 score : 0.6871165644171779\n",
      "roc auc : 0.7856351495297049\n",
      "\n",
      "LGBM classification evaluation\n",
      "[[56862     2]\n",
      " [   20    78]]\n",
      "Acc : 0.9996137776061234\n",
      "precision : 0.975\n",
      "recall : 0.7959183673469388\n",
      "f1 score : 0.8764044943820225\n",
      "roc auc : 0.8979415978546735\n"
     ]
    },
    {
     "data": {
      "text/plain": [
       "LGBMClassifier(boost_from_average=False, boosting_type='gbdt',\n",
       "               class_weight=None, colsample_bytree=1.0, importance_type='split',\n",
       "               learning_rate=0.1, max_depth=-1, min_child_samples=20,\n",
       "               min_child_weight=0.001, min_split_gain=0.0, n_estimators=1000,\n",
       "               n_jobs=-1, num_leaves=64, objective=None, random_state=None,\n",
       "               reg_alpha=0.0, reg_lambda=0.0, silent=True, subsample=1.0,\n",
       "               subsample_for_bin=200000, subsample_freq=0)"
      ]
     },
     "execution_count": 12,
     "metadata": {},
     "output_type": "execute_result"
    }
   ],
   "source": [
    "X_train, X_test, y_train, y_test = get_train_test_datasets(df)\n",
    "lr = LogisticRegression()\n",
    "print(\"logistic regression classification evaluation\")\n",
    "get_model_train_eval(model=lr, ftr_train=X_train, ftr_test=X_test,\n",
    "                    tgt_train=y_train, tgt_test=y_test)\n",
    "\n",
    "lgbm = LGBMClassifier(n_estimators=1000, num_leaves=64,\n",
    "                      n_jobs=-1,boost_from_average=False)\n",
    "print(\"\\nLGBM classification evaluation\")\n",
    "get_model_train_eval(model=lgbm, ftr_train=X_train, ftr_test=X_test,\n",
    "                    tgt_train=y_train, tgt_test=y_test)"
   ]
  },
  {
   "cell_type": "code",
   "execution_count": 13,
   "metadata": {},
   "outputs": [],
   "source": [
    "def get_preprocessed_df(df=None):\n",
    "    res = df.copy()\n",
    "    amount_scaled = np.log1p(res[\"Amount\"])\n",
    "    res.insert(0, \"Amount_Scaled\", amount_scaled)\n",
    "    res.drop([\"Time\",\"Amount\"], axis=1, inplace=True)\n",
    "    return res"
   ]
  },
  {
   "cell_type": "code",
   "execution_count": 14,
   "metadata": {},
   "outputs": [
    {
     "name": "stdout",
     "output_type": "stream",
     "text": [
      "logistic regression classification evaluation\n",
      "[[56855     9]\n",
      " [   42    56]]\n",
      "Acc : 0.9991046662687406\n",
      "precision : 0.8615384615384616\n",
      "recall : 0.5714285714285714\n",
      "f1 score : 0.6871165644171779\n",
      "roc auc : 0.7856351495297049\n",
      "\n",
      "LGBM classification evaluation\n",
      "[[56862     2]\n",
      " [   22    76]]\n",
      "Acc : 0.9995786664794073\n",
      "precision : 0.9743589743589743\n",
      "recall : 0.7755102040816326\n",
      "f1 score : 0.8636363636363635\n",
      "roc auc : 0.8877375162220206\n"
     ]
    },
    {
     "data": {
      "text/plain": [
       "LGBMClassifier(boost_from_average=False, boosting_type='gbdt',\n",
       "               class_weight=None, colsample_bytree=1.0, importance_type='split',\n",
       "               learning_rate=0.1, max_depth=-1, min_child_samples=20,\n",
       "               min_child_weight=0.001, min_split_gain=0.0, n_estimators=1000,\n",
       "               n_jobs=-1, num_leaves=64, objective=None, random_state=None,\n",
       "               reg_alpha=0.0, reg_lambda=0.0, silent=True, subsample=1.0,\n",
       "               subsample_for_bin=200000, subsample_freq=0)"
      ]
     },
     "execution_count": 14,
     "metadata": {},
     "output_type": "execute_result"
    }
   ],
   "source": [
    "X_train, X_test, y_train, y_test = get_train_test_datasets(df)\n",
    "lr = LogisticRegression()\n",
    "print(\"logistic regression classification evaluation\")\n",
    "get_model_train_eval(model=lr, ftr_train=X_train, ftr_test=X_test,\n",
    "                    tgt_train=y_train, tgt_test=y_test)\n",
    "\n",
    "lgbm = LGBMClassifier(n_estimators=1000, num_leaves=64,\n",
    "                      n_jobs=-1, boost_from_average=False)\n",
    "print(\"\\nLGBM classification evaluation\")\n",
    "get_model_train_eval(model=lgbm, ftr_train=X_train, ftr_test=X_test,\n",
    "                    tgt_train=y_train, tgt_test=y_test)"
   ]
  },
  {
   "cell_type": "code",
   "execution_count": 15,
   "metadata": {},
   "outputs": [
    {
     "data": {
      "text/plain": [
       "<matplotlib.axes._subplots.AxesSubplot at 0x252d4c07cf8>"
      ]
     },
     "execution_count": 15,
     "metadata": {},
     "output_type": "execute_result"
    },
    {
     "data": {
      "image/png": "[encoded data removed]",
      "text/plain": [
       "<Figure size 864x864 with 2 Axes>"
      ]
     },
     "metadata": {
      "needs_background": "light"
     },
     "output_type": "display_data"
    }
   ],
   "source": [
    "card_df = get_preprocessed_df(df)\n",
    "plt.figure(figsize=(12,12))\n",
    "corr = card_df.corr()\n",
    "sns.heatmap(corr, cmap=\"RdBu\")"
   ]
  },
  {
   "cell_type": "code",
   "execution_count": 16,
   "metadata": {},
   "outputs": [],
   "source": [
    "def get_outlier(df=None, column=None, weight=1.5):\n",
    "    fraud = df[df[\"Class\"] == 1][column]\n",
    "    quatile_25 = np.percentile(fraud.values, 25)\n",
    "    quatile_75 = np.percentile(fraud.values, 75)\n",
    "    \n",
    "    iqr = quatile_75 - quatile_25\n",
    "    iqr_weight = iqr * weight\n",
    "    lowest_val = quatile_25 - iqr_weight\n",
    "    highest_val = quatile_75 + iqr_weight\n",
    "    outlier_idx = fraud[(fraud < lowest_val) | (fraud > highest_val)].index\n",
    "    return outlier_idx"
   ]
  },
  {
   "cell_type": "code",
   "execution_count": 17,
   "metadata": {},
   "outputs": [
    {
     "data": {
      "text/plain": [
       "Int64Index([8296, 8615, 9035, 9252], dtype='int64')"
      ]
     },
     "execution_count": 17,
     "metadata": {},
     "output_type": "execute_result"
    }
   ],
   "source": [
    "outlier_idx = get_outlier(df=card_df, column=\"V14\", weight=1.5)\n",
    "outlier_idx"
   ]
  },
  {
   "cell_type": "code",
   "execution_count": 18,
   "metadata": {},
   "outputs": [],
   "source": [
    "def get_preprocessed_df(df=None):\n",
    "    res = df.copy()\n",
    "    amount_scaled = np.log1p(res[\"Amount\"])\n",
    "    res.insert(0, \"Amount_Scaled\", amount_scaled)\n",
    "    res.drop([\"Time\",\"Amount\"], axis=1, inplace=True)\n",
    "    \n",
    "    outlier_index = get_outlier(df=res, column = \"V14\", weight=1.5)\n",
    "    res.drop(outlier_index, axis=0, inplace=True)\n",
    "    return res"
   ]
  },
  {
   "cell_type": "code",
   "execution_count": 19,
   "metadata": {},
   "outputs": [
    {
     "name": "stdout",
     "output_type": "stream",
     "text": [
      "logistic regression classification evaluation\n",
      "[[56853    10]\n",
      " [   49    49]]\n",
      "Acc : 0.9989642035778866\n",
      "precision : 0.8305084745762712\n",
      "recall : 0.5\n",
      "f1 score : 0.6242038216560509\n",
      "roc auc : 0.7499120693596891\n",
      "\n",
      "LGBM classification evaluation\n",
      "[[56860     3]\n",
      " [   20    78]]\n",
      "Acc : 0.9995962149540913\n",
      "precision : 0.9629629629629629\n",
      "recall : 0.7959183673469388\n",
      "f1 score : 0.871508379888268\n",
      "roc auc : 0.8979328044813761\n"
     ]
    },
    {
     "data": {
      "text/plain": [
       "LGBMClassifier(boost_from_average=False, boosting_type='gbdt',\n",
       "               class_weight=None, colsample_bytree=1.0, importance_type='split',\n",
       "               learning_rate=0.1, max_depth=-1, min_child_samples=20,\n",
       "               min_child_weight=0.001, min_split_gain=0.0, n_estimators=1000,\n",
       "               n_jobs=-1, num_leaves=64, objective=None, random_state=None,\n",
       "               reg_alpha=0.0, reg_lambda=0.0, silent=True, subsample=1.0,\n",
       "               subsample_for_bin=200000, subsample_freq=0)"
      ]
     },
     "execution_count": 19,
     "metadata": {},
     "output_type": "execute_result"
    }
   ],
   "source": [
    "X_train, X_test, y_train, y_test = get_train_test_datasets(df)\n",
    "lr = LogisticRegression()\n",
    "print(\"logistic regression classification evaluation\")\n",
    "get_model_train_eval(model=lr, ftr_train=X_train, ftr_test=X_test,\n",
    "                    tgt_train=y_train, tgt_test=y_test)\n",
    "\n",
    "lgbm = LGBMClassifier(n_estimators=1000, num_leaves=64,\n",
    "                      n_jobs=-1, boost_from_average=False)\n",
    "print(\"\\nLGBM classification evaluation\")\n",
    "get_model_train_eval(model=lgbm, ftr_train=X_train, ftr_test=X_test,\n",
    "                    tgt_train=y_train, tgt_test=y_test)"
   ]
  },
  {
   "cell_type": "code",
   "execution_count": 25,
   "metadata": {},
   "outputs": [
    {
     "name": "stdout",
     "output_type": "stream",
     "text": [
      "berfore smote :  (227842, 29) (227842,)\n",
      "after smote :  (454904, 29) (454904,)\n",
      "label distribution after smote \n",
      " 1    227452\n",
      "0    227452\n",
      "Name: Class, dtype: int64\n"
     ]
    }
   ],
   "source": [
    "from imblearn.over_sampling import SMOTE\n",
    "smote = SMOTE(random_state=100)\n",
    "X_train_over, y_train_over = smote.fit_sample(X_train, y_train)\n",
    "print(\"berfore smote : \",X_train.shape, y_train.shape)\n",
    "print(\"after smote : \", X_train_over.shape, y_train_over.shape)\n",
    "print(\"label distribution after smote \\n\", pd.Series(y_train_over).value_counts())"
   ]
  },
  {
   "cell_type": "code",
   "execution_count": 26,
   "metadata": {},
   "outputs": [
    {
     "name": "stdout",
     "output_type": "stream",
     "text": [
      "logistic regression classification evaluation\n",
      "[[55510  1353]\n",
      " [   12    86]]\n",
      "Acc : 0.9760362353189024\n",
      "precision : 0.059763724808895066\n",
      "recall : 0.8775510204081632\n",
      "f1 score : 0.11190631099544567\n",
      "roc auc : 0.9268784945700137\n",
      "\n",
      "LGBM classification evaluation\n",
      "[[56850    13]\n",
      " [   21    77]]\n",
      "Acc : 0.9994031003669177\n",
      "precision : 0.8555555555555555\n",
      "recall : 0.7857142857142857\n",
      "f1 score : 0.8191489361702127\n",
      "roc auc : 0.8927428330247387\n"
     ]
    },
    {
     "data": {
      "text/plain": [
       "LGBMClassifier(boost_from_average=False, boosting_type='gbdt',\n",
       "               class_weight=None, colsample_bytree=1.0, importance_type='split',\n",
       "               learning_rate=0.1, max_depth=-1, min_child_samples=20,\n",
       "               min_child_weight=0.001, min_split_gain=0.0, n_estimators=1000,\n",
       "               n_jobs=-1, num_leaves=64, objective=None, random_state=None,\n",
       "               reg_alpha=0.0, reg_lambda=0.0, silent=True, subsample=1.0,\n",
       "               subsample_for_bin=200000, subsample_freq=0)"
      ]
     },
     "execution_count": 26,
     "metadata": {},
     "output_type": "execute_result"
    }
   ],
   "source": [
    "lr = LogisticRegression()\n",
    "print(\"logistic regression classification evaluation\")\n",
    "get_model_train_eval(model=lr, ftr_train=X_train_over, ftr_test=X_test,\n",
    "                    tgt_train=y_train_over, tgt_test=y_test)\n",
    "\n",
    "lgbm = LGBMClassifier(n_estimators=1000, num_leaves=64,\n",
    "                      n_jobs=-1, boost_from_average=False)\n",
    "print(\"\\nLGBM classification evaluation\")\n",
    "get_model_train_eval(model=lgbm, ftr_train=X_train_over, ftr_test=X_test,\n",
    "                    tgt_train=y_train_over, tgt_test=y_test)"
   ]
  },
  {
   "cell_type": "code",
   "execution_count": null,
   "metadata": {},
   "outputs": [],
   "source": []
  }
 ],
 "metadata": {
  "kernelspec": {
   "display_name": "Python 3",
   "language": "python",
   "name": "python3"
  },
  "language_info": {
   "codemirror_mode": {
    "name": "ipython",
    "version": 3
   },
   "file_extension": ".py",
   "mimetype": "text/x-python",
   "name": "python",
   "nbconvert_exporter": "python",
   "pygments_lexer": "ipython3",
   "version": "3.7.1"
  }
 },
 "nbformat": 4,
 "nbformat_minor": 2
}
