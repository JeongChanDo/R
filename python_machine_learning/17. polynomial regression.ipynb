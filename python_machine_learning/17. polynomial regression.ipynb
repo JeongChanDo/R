{
 "cells": [
  {
   "cell_type": "code",
   "execution_count": 1,
   "metadata": {},
   "outputs": [],
   "source": [
    "from sklearn.preprocessing import PolynomialFeatures\n",
    "import numpy as np\n"
   ]
  },
  {
   "cell_type": "code",
   "execution_count": 11,
   "metadata": {},
   "outputs": [
    {
     "name": "stdout",
     "output_type": "stream",
     "text": [
      "1차 식 계수 피처 :  [[1. 1.]]\n"
     ]
    }
   ],
   "source": [
    "#x1를 이용한 1차식\n",
    "X = np.array([\n",
    "    [1]\n",
    "])\n",
    "poly =PolynomialFeatures(degree=1)\n",
    "poly.fit(X)\n",
    "poly_ftr = poly.transform(X)\n",
    "print(\"1차 식 계수 피처 : \", poly_ftr)"
   ]
  },
  {
   "cell_type": "code",
   "execution_count": 12,
   "metadata": {},
   "outputs": [
    {
     "name": "stdout",
     "output_type": "stream",
     "text": [
      "1차 식 계수 피처 :  [[1. 1. 1.]]\n"
     ]
    }
   ],
   "source": [
    "#x1를 이용한 2차식\n",
    "X = np.array([\n",
    "    [1]\n",
    "])\n",
    "poly =PolynomialFeatures(degree=2)\n",
    "poly.fit(X)\n",
    "poly_ftr = poly.transform(X)\n",
    "print(\"2차 식 계수 피처 : \", poly_ftr)"
   ]
  },
  {
   "cell_type": "code",
   "execution_count": 13,
   "metadata": {},
   "outputs": [
    {
     "name": "stdout",
     "output_type": "stream",
     "text": [
      "2차 식 계수 피처 :  [[1. 1. 1. 1. 1. 1.]]\n"
     ]
    }
   ],
   "source": [
    "#x1, x2를 이용한 2차식\n",
    "X = np.array([\n",
    "    [1, 1]\n",
    "])\n",
    "poly =PolynomialFeatures(degree=2)\n",
    "poly.fit(X)\n",
    "poly_ftr = poly.transform(X)\n",
    "print(\"2차 식 계수 피처 : \", poly_ftr)"
   ]
  },
  {
   "cell_type": "code",
   "execution_count": 15,
   "metadata": {},
   "outputs": [
    {
     "name": "stdout",
     "output_type": "stream",
     "text": [
      "2차 식 계수 피처\n",
      " [[1. 0. 1. 0. 0. 1.]\n",
      " [1. 2. 3. 4. 6. 9.]]\n"
     ]
    }
   ],
   "source": [
    "\"\"\"\n",
    "x1 = 0, x2 = 1인 경우\n",
    "x1 = 2, x2 = 3인 경우 2차식 계수 피처\n",
    "\"\"\"\n",
    "X = np.array([\n",
    "    [0, 1],\n",
    "    [2, 3]\n",
    "])\n",
    "poly =PolynomialFeatures(degree=2)\n",
    "poly.fit(X)\n",
    "poly_ftr = poly.transform(X)\n",
    "print(\"2차 식 계수 피처\\n\", poly_ftr)"
   ]
  },
  {
   "cell_type": "code",
   "execution_count": 16,
   "metadata": {},
   "outputs": [
    {
     "name": "stdout",
     "output_type": "stream",
     "text": [
      "[[ 1  5]\n",
      " [17 43]]\n"
     ]
    }
   ],
   "source": [
    "def polynomial_func(X):\n",
    "    y = 1 + 2 * X + X**2 + X ** 3\n",
    "    return y\n",
    "\n",
    "X = np.array([\n",
    "    [0, 1],\n",
    "    [2, 3]\n",
    "])\n",
    "y = polynomial_func(X)\n",
    "print(y)"
   ]
  },
  {
   "cell_type": "code",
   "execution_count": 17,
   "metadata": {},
   "outputs": [
    {
     "name": "stdout",
     "output_type": "stream",
     "text": [
      "3차 다항식 계수들 \n",
      " [[ 1.  0.  1.  0.  0.  1.  0.  0.  0.  1.]\n",
      " [ 1.  2.  3.  4.  6.  9.  8. 12. 18. 27.]]\n",
      "다항 회귀 회귀 계수\n",
      " [[0.   0.02 0.02 0.05 0.07 0.1  0.1  0.14 0.22 0.31]\n",
      " [0.   0.06 0.06 0.11 0.17 0.23 0.23 0.34 0.51 0.74]]\n",
      "다항 회귀 형태 \n",
      " (2, 10)\n"
     ]
    }
   ],
   "source": [
    "from sklearn.linear_model import LinearRegression\n",
    "\n",
    "poly_ftr = PolynomialFeatures(degree=3).fit_transform(X)\n",
    "print(\"3차 다항식 계수들 \\n\", poly_ftr)\n",
    "\n",
    "model = LinearRegression()\n",
    "model.fit(poly_ftr, y)\n",
    "print(\"다항 회귀 회귀 계수\\n\",np.round(model.coef_, 2))\n",
    "print(\"다항 회귀 형태 \\n\",model.coef_.shape)"
   ]
  },
  {
   "cell_type": "code",
   "execution_count": 48,
   "metadata": {},
   "outputs": [
    {
     "name": "stdout",
     "output_type": "stream",
     "text": [
      "[[ 1]\n",
      " [ 5]\n",
      " [17]]\n"
     ]
    }
   ],
   "source": [
    "def polynomial_func(X):\n",
    "    y = 1 + 2 * X + X**2 + X ** 3\n",
    "    return y\n",
    "\n",
    "X = np.array([\n",
    "    [0],\n",
    "    [1],\n",
    "    [2]\n",
    "])\n",
    "y = polynomial_func(X)\n",
    "print(y)"
   ]
  },
  {
   "cell_type": "code",
   "execution_count": 49,
   "metadata": {},
   "outputs": [
    {
     "name": "stdout",
     "output_type": "stream",
     "text": [
      "2차 다항식 계수들 \n",
      " [[1. 0. 0.]\n",
      " [1. 1. 1.]\n",
      " [1. 2. 4.]]\n",
      "다항 회귀 회귀 계수\n",
      " [[ 0. -0.  4.]]\n",
      "다항 회귀 형태 \n",
      " (1, 3)\n"
     ]
    }
   ],
   "source": [
    "x_ftr = np.array([\n",
    "    [1]\n",
    "])\n",
    "poly_ftr = PolynomialFeatures(degree=2).fit_transform(X)\n",
    "print(\"2차 다항식 계수들 \\n\", poly_ftr)\n",
    "\n",
    "model = LinearRegression()\n",
    "model.fit(poly_ftr, y)\n",
    "print(\"다항 회귀 회귀 계수\\n\",np.round(model.coef_, 2))\n",
    "print(\"다항 회귀 형태 \\n\",model.coef_.shape)"
   ]
  },
  {
   "cell_type": "code",
   "execution_count": 50,
   "metadata": {},
   "outputs": [
    {
     "name": "stdout",
     "output_type": "stream",
     "text": [
      "[[ 1]\n",
      " [ 2]\n",
      " [ 5]\n",
      " [10]\n",
      " [17]\n",
      " [26]\n",
      " [37]\n",
      " [50]\n",
      " [65]\n",
      " [82]]\n"
     ]
    }
   ],
   "source": [
    "def polynomial_func(X):\n",
    "    y = 1 + X**2\n",
    "    return y\n",
    "\n",
    "X = np.arange(10).reshape(10,1)\n",
    "y = polynomial_func(X)\n",
    "print(y)"
   ]
  },
  {
   "cell_type": "code",
   "execution_count": 51,
   "metadata": {},
   "outputs": [
    {
     "name": "stdout",
     "output_type": "stream",
     "text": [
      "2차 다항식 x값 \n",
      " [[ 1.  0.  0.]\n",
      " [ 1.  1.  1.]\n",
      " [ 1.  2.  4.]\n",
      " [ 1.  3.  9.]\n",
      " [ 1.  4. 16.]\n",
      " [ 1.  5. 25.]\n",
      " [ 1.  6. 36.]\n",
      " [ 1.  7. 49.]\n",
      " [ 1.  8. 64.]\n",
      " [ 1.  9. 81.]]\n",
      "다항 회귀 회귀 계수\n",
      " [[ 0. -0.  1.]]\n",
      "다항 회귀 형태 \n",
      " (1, 3)\n"
     ]
    }
   ],
   "source": [
    "poly_ftr = PolynomialFeatures(degree=2).fit_transform(X)\n",
    "print(\"2차 다항식 x값 \\n\", poly_ftr)\n",
    "\n",
    "model = LinearRegression()\n",
    "model.fit(poly_ftr, y)\n",
    "print(\"다항 회귀 회귀 계수\\n\",np.round(model.coef_, 2))\n",
    "print(\"다항 회귀 형태 \\n\",model.coef_.shape)"
   ]
  },
  {
   "cell_type": "code",
   "execution_count": 53,
   "metadata": {},
   "outputs": [
    {
     "name": "stdout",
     "output_type": "stream",
     "text": [
      "[[ 0]\n",
      " [ 1]\n",
      " [ 4]\n",
      " [ 9]\n",
      " [16]\n",
      " [25]\n",
      " [36]\n",
      " [49]\n",
      " [64]\n",
      " [81]]\n"
     ]
    }
   ],
   "source": [
    "def polynomial_func(X):\n",
    "    y = X**2\n",
    "    return y\n",
    "\n",
    "X = np.arange(10).reshape(10,1)\n",
    "y = polynomial_func(X)\n",
    "print(y)"
   ]
  },
  {
   "cell_type": "code",
   "execution_count": 55,
   "metadata": {},
   "outputs": [
    {
     "name": "stdout",
     "output_type": "stream",
     "text": [
      "2차 다항식 x값들 \n",
      " [[ 1.  0.  0.]\n",
      " [ 1.  1.  1.]\n",
      " [ 1.  2.  4.]\n",
      " [ 1.  3.  9.]\n",
      " [ 1.  4. 16.]\n",
      " [ 1.  5. 25.]\n",
      " [ 1.  6. 36.]\n",
      " [ 1.  7. 49.]\n",
      " [ 1.  8. 64.]\n",
      " [ 1.  9. 81.]]\n"
     ]
    }
   ],
   "source": [
    "poly_ftr = PolynomialFeatures(degree=2).fit_transform(X)\n",
    "print(\"2차 다항식 x값들 \\n\", poly_ftr)"
   ]
  },
  {
   "cell_type": "code",
   "execution_count": 56,
   "metadata": {},
   "outputs": [
    {
     "name": "stdout",
     "output_type": "stream",
     "text": [
      "다항 회귀 회귀 계수\n",
      " [[ 0. -0.  1.]]\n",
      "다항 회귀 형태 \n",
      " (1, 3)\n"
     ]
    }
   ],
   "source": [
    "model = LinearRegression()\n",
    "model.fit(poly_ftr, y)\n",
    "print(\"다항 회귀 회귀 계수\\n\",np.round(model.coef_, 2))\n",
    "print(\"다항 회귀 형태 \\n\",model.coef_.shape)"
   ]
  },
  {
   "cell_type": "code",
   "execution_count": 59,
   "metadata": {},
   "outputs": [
    {
     "name": "stdout",
     "output_type": "stream",
     "text": [
      "실제 y\n",
      " [[9.    ]\n",
      " [5.29  ]\n",
      " [3.4225]]\n",
      "예측한 y\n",
      " [[9.    ]\n",
      " [5.29  ]\n",
      " [3.4225]]\n"
     ]
    }
   ],
   "source": [
    "X = np.array([\n",
    "    [-3],\n",
    "    [-2.3],\n",
    "    [-1.85]\n",
    "])\n",
    "poly_ftr = PolynomialFeatures(degree=2).fit_transform(X)\n",
    "y_pred = model.predict(poly_ftr)\n",
    "y_real = polynomial_func(X)\n",
    "print(\"실제 y\\n\",y_real)\n",
    "print(\"예측한 y\\n\",y_pred)"
   ]
  },
  {
   "cell_type": "code",
   "execution_count": 115,
   "metadata": {},
   "outputs": [
    {
     "data": {
      "text/plain": [
       "<matplotlib.collections.PathCollection at 0x1d5c912bf98>"
      ]
     },
     "execution_count": 115,
     "metadata": {},
     "output_type": "execute_result"
    },
    {
     "data": {
      "image/png": "[encoded data removed]",
      "text/plain": [
       "<Figure size 432x288 with 1 Axes>"
      ]
     },
     "metadata": {
      "needs_background": "light"
     },
     "output_type": "display_data"
    }
   ],
   "source": [
    "import matplotlib.pyplot as plt\n",
    "def polynomial_func(X):\n",
    "    error = 0.8 * np.random.randn(X.shape[0])\n",
    "    y = 4 - 2 * X - 1.1* (X**2) +(X**3) + error\n",
    "    return y\n",
    "\n",
    "num = 60\n",
    "X = np.linspace(-2, 2, num)\n",
    "y = polynomial_func(X)\n",
    "plt.scatter(X, y)"
   ]
  },
  {
   "cell_type": "code",
   "execution_count": 120,
   "metadata": {},
   "outputs": [
    {
     "name": "stdout",
     "output_type": "stream",
     "text": [
      "다항 회귀 모델 계수 \n",
      " [ 0.   -2.29 -1.11  1.06]\n",
      "실제 y\n",
      " [-3.54025263 -2.54730092 -3.210088   -2.22946234 -1.54406516]\n",
      "예측한 y\n",
      " [-4.39189232 -3.41862777 -2.51194853 -1.66987789 -0.89043913]\n",
      "MSE : 0.44\n"
     ]
    }
   ],
   "source": [
    "from sklearn.metrics import mean_squared_error\n",
    "X_input = X.reshape(num, 1)\n",
    "poly_ftr = PolynomialFeatures(degree=3).fit_transform(X_input)\n",
    "model = LinearRegression()\n",
    "model.fit(poly_ftr, y)\n",
    "\n",
    "y_pred = model.predict(poly_ftr)\n",
    "print(\"다항 회귀 모델 계수 \\n\",np.round(model.coef_,2))\n",
    "print(\"실제 y\\n\",y[:5])\n",
    "print(\"예측한 y\\n\",y_pred[:5])\n",
    "print(\"MSE : {0:.2f}\".format(mean_squared_error(y_pred, y)))"
   ]
  },
  {
   "cell_type": "code",
   "execution_count": null,
   "metadata": {},
   "outputs": [],
   "source": []
  }
 ],
 "metadata": {
  "kernelspec": {
   "display_name": "Python 3",
   "language": "python",
   "name": "python3"
  },
  "language_info": {
   "codemirror_mode": {
    "name": "ipython",
    "version": 3
   },
   "file_extension": ".py",
   "mimetype": "text/x-python",
   "name": "python",
   "nbconvert_exporter": "python",
   "pygments_lexer": "ipython3",
   "version": "3.7.1"
  }
 },
 "nbformat": 4,
 "nbformat_minor": 2
}
