{
 "cells": [
  {
   "cell_type": "code",
   "execution_count": 1,
   "metadata": {},
   "outputs": [
    {
     "data": {
      "text/plain": [
       "<matplotlib.collections.PathCollection at 0x1f14ee9a9e8>"
      ]
     },
     "execution_count": 1,
     "metadata": {},
     "output_type": "execute_result"
    }
   ],
   "source": [
    "from sklearn.tree import DecisionTreeClassifier\n",
    "from sklearn.datasets import make_classification\n",
    "import seaborn as sns\n",
    "import matplotlib.pyplot as plt\n",
    "\n",
    "\n",
    "X, y = make_classification(n_features=2, n_informative=2, n_redundant=0,\n",
    "                          n_classes=3, n_clusters_per_class=1, random_state=0)\n",
    "\n",
    "\n",
    "plt.scatter(X[:,0],X[:,1], c=y)"
   ]
  },
  {
   "cell_type": "code",
   "execution_count": 4,
   "metadata": {},
   "outputs": [
    {
     "name": "stdout",
     "output_type": "stream",
     "text": [
      "train_score : 1.0 \n",
      "test_score : 0.85 \n"
     ]
    }
   ],
   "source": [
    "from sklearn.model_selection import train_test_split\n",
    "\n",
    "X_train, X_test, y_train, y_test = train_test_split(X, y, test_size=0.2)\n",
    "\n",
    "df = DecisionTreeClassifier()\n",
    "df.fit(X_train, y_train)\n",
    "\n",
    "print(\"train_score : {} \".format(df.score(X_train, y_train)))\n",
    "print(\"test_score : {} \".format(df.score(X_test, y_test)))"
   ]
  },
  {
   "cell_type": "code",
   "execution_count": 20,
   "metadata": {},
   "outputs": [
    {
     "name": "stdout",
     "output_type": "stream",
     "text": [
      "train_score : 0.925 \n",
      "test_score : 0.9 \n"
     ]
    }
   ],
   "source": [
    "df = DecisionTreeClassifier(min_samples_split=6)\n",
    "df.fit(X_train, y_train)\n",
    "\n",
    "print(\"train_score : {} \".format(df.score(X_train, y_train)))\n",
    "print(\"test_score : {} \".format(df.score(X_test, y_test)))"
   ]
  },
  {
   "cell_type": "code",
   "execution_count": 32,
   "metadata": {},
   "outputs": [
    {
     "name": "stdout",
     "output_type": "stream",
     "text": [
      "train_score : 0.8875 \n",
      "test_score : 1.0 \n",
      "0.81\n",
      "{'max_depth': 4, 'min_samples_leaf': 1, 'min_samples_split': 2}\n"
     ]
    },
    {
     "name": "stderr",
     "output_type": "stream",
     "text": [
      "D:\\program files\\Anaconda3\\lib\\site-packages\\sklearn\\model_selection\\_search.py:841: DeprecationWarning: The default of the `iid` parameter will change from True to False in version 0.22 and will be removed in 0.24. This will change numeric results when test-set sizes are unequal.\n",
      "  DeprecationWarning)\n"
     ]
    }
   ],
   "source": [
    "from sklearn.model_selection import GridSearchCV\n",
    "\n",
    "param={\n",
    "    \"min_samples_leaf\":[1, 2, 3, 4, 5, 6, 7, 8, 9],\n",
    "    \"max_depth\":[2, 3, 4, 5, 6, None],\n",
    "    \"min_samples_split\":[2, 3, 4, 5, 6, 7, 8, 9, 10]\n",
    "}\n",
    "\n",
    "df = DecisionTreeClassifier()\n",
    "gs = GridSearchCV(df, param_grid=param, cv=5, refit=True)\n",
    "\n",
    "gs.fit(X, y)\n",
    "\n",
    "df = gs.best_estimator_\n",
    "print(\"train_score : {} \".format(df.score(X_train, y_train)))\n",
    "print(\"test_score : {} \".format(df.score(X_test, y_test)))\n",
    "print(gs.best_score_)\n",
    "print(gs.best_params_)"
   ]
  },
  {
   "cell_type": "code",
   "execution_count": 29,
   "metadata": {},
   "outputs": [
    {
     "name": "stdout",
     "output_type": "stream",
     "text": [
      "train_score : 0.9 \n",
      "test_score : 0.9 \n"
     ]
    }
   ],
   "source": [
    "df = DecisionTreeClassifier(min_samples_split=2, max_depth=4, min_samples_leaf=1)\n",
    "df.fit(X_train, y_train)\n",
    "\n",
    "print(\"train_score : {} \".format(df.score(X_train, y_train)))\n",
    "print(\"test_score : {} \".format(df.score(X_test, y_test)))"
   ]
  },
  {
   "cell_type": "code",
   "execution_count": null,
   "metadata": {},
   "outputs": [],
   "source": []
  }
 ],
 "metadata": {
  "kernelspec": {
   "display_name": "Python 3",
   "language": "python",
   "name": "python3"
  },
  "language_info": {
   "codemirror_mode": {
    "name": "ipython",
    "version": 3
   },
   "file_extension": ".py",
   "mimetype": "text/x-python",
   "name": "python",
   "nbconvert_exporter": "python",
   "pygments_lexer": "ipython3",
   "version": "3.7.1"
  }
 },
 "nbformat": 4,
 "nbformat_minor": 2
}
